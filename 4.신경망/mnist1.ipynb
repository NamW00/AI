{
 "cells": [
  {
   "cell_type": "code",
   "execution_count": 49,
   "id": "8f0decb2-9446-4018-aa04-be2249135276",
   "metadata": {},
   "outputs": [],
   "source": [
    "import numpy as np\n",
    "import pickle # Dictionary 형태의 데이터 불러오는것\n",
    "from mnist import load_mnist\n",
    "from functions import sigmoid, softmax\n",
    "import time"
   ]
  },
  {
   "cell_type": "code",
   "execution_count": 51,
   "id": "1326fb4f-a6d9-48ad-9f00-96f9620e1c0f",
   "metadata": {},
   "outputs": [],
   "source": [
    "def get_testdata():\n",
    "    (x_train, t_train), (x_test, t_test) = load_mnist(flatten=True, normalize=False)\n",
    "    return x_test, t_test"
   ]
  },
  {
   "cell_type": "code",
   "execution_count": 53,
   "id": "df8910dc-ad3b-456e-a7c0-8be9af142c62",
   "metadata": {},
   "outputs": [],
   "source": [
    "def init_network():\n",
    "    with open(\"sample_weights.pickle\", 'rb') as f:\n",
    "        network = pickle.load(f)\n",
    "    return network"
   ]
  },
  {
   "cell_type": "code",
   "execution_count": 59,
   "id": "642abf3a-b6fb-453e-9698-9fa656a643c3",
   "metadata": {},
   "outputs": [],
   "source": [
    "def predict(network, x):\n",
    "    W1, W2, W3 = network['W1'], network['W2'], network['W3']\n",
    "\n",
    "    x = np.append([1],x)\n",
    "    a1 = np.dot(W1,x)\n",
    "    z1 = np.append([1],sigmoid(a1))\n",
    "    a2 = np.dot(W2,z1)\n",
    "    z2 = np.append([1],sigmoid(a2))\n",
    "    a3 = np.dot(W3,z2)\n",
    "    y = softmax(a3)\n",
    "    return y"
   ]
  },
  {
   "cell_type": "code",
   "execution_count": 61,
   "id": "9fdcca7c-feb7-47f8-a2dd-ef2819ff8b8c",
   "metadata": {},
   "outputs": [
    {
     "name": "stdout",
     "output_type": "stream",
     "text": [
      "Computation time: 3.5276975631713867\n",
      "Accuracy: 0.9207\n"
     ]
    }
   ],
   "source": [
    "x, t = get_testdata()\n",
    "network = init_network()\n",
    "\n",
    "s_time = time.time() #실행하는데 시간이 얼마나 걸렸나 측정\n",
    "accuracy_cnt = 0\n",
    "for i in range(len(x)):\n",
    "    y = predict(network, x[i])\n",
    "    p = np.argmax(y)\n",
    "    if p == t[i]:\n",
    "        accuracy_cnt += 1\n",
    "e_time = time.time()\n",
    "print(\"Computation time:\", e_time-s_time)\n",
    "print(\"Accuracy:\", accuracy_cnt/len(x))"
   ]
  },
  {
   "cell_type": "code",
   "execution_count": 65,
   "id": "7290c24c-ce35-4df6-9f4b-73697f32e362",
   "metadata": {},
   "outputs": [
    {
     "name": "stdout",
     "output_type": "stream",
     "text": [
      "[2.75164684e-11 9.99275690e-01 1.95092296e-05 2.03040646e-04\n",
      " 1.02136720e-05 4.94664436e-05 1.94637192e-05 1.17624426e-06\n",
      " 4.20253130e-04 1.18649839e-06]\n",
      "1\n"
     ]
    },
    {
     "data": {
      "text/plain": [
       "7"
      ]
     },
     "execution_count": 65,
     "metadata": {},
     "output_type": "execute_result"
    }
   ],
   "source": [
    "y = predict(network, x[1500])\n",
    "print(y)\n",
    "p = np.argmax(y)\n",
    "print(p)\n",
    "t[1500]"
   ]
  }
 ],
 "metadata": {
  "kernelspec": {
   "display_name": "Python [conda env:base] *",
   "language": "python",
   "name": "conda-base-py"
  },
  "language_info": {
   "codemirror_mode": {
    "name": "ipython",
    "version": 3
   },
   "file_extension": ".py",
   "mimetype": "text/x-python",
   "name": "python",
   "nbconvert_exporter": "python",
   "pygments_lexer": "ipython3",
   "version": "3.12.7"
  }
 },
 "nbformat": 4,
 "nbformat_minor": 5
}
