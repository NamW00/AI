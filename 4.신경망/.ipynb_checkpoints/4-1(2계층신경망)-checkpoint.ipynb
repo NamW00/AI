{
 "cells": [
  {
   "cell_type": "code",
   "execution_count": 23,
   "id": "5a0bfe3a-8771-497f-90f6-f5cf246b583e",
   "metadata": {},
   "outputs": [],
   "source": [
    "import numpy as np"
   ]
  },
  {
   "cell_type": "code",
   "execution_count": 25,
   "id": "0fc3ef35-a12e-44c8-9498-bef70821d5a4",
   "metadata": {},
   "outputs": [],
   "source": [
    "def sigmoid_func(x):\n",
    "    return 1/(1+np.exp(-x))"
   ]
  },
  {
   "cell_type": "code",
   "execution_count": 27,
   "id": "04a6a4c9-0b4f-4db2-930b-14155f2daa66",
   "metadata": {},
   "outputs": [],
   "source": [
    "def init_network():\n",
    "    network = {}\n",
    "    network['W1']=np.random.randn(3,3)\n",
    "    network['W2']=np.random.randn(3,4)\n",
    "    return network"
   ]
  },
  {
   "cell_type": "code",
   "execution_count": 29,
   "id": "e425790e-aa94-44d4-bac0-955bc3b83f30",
   "metadata": {},
   "outputs": [],
   "source": [
    "# network = init_network()\n",
    "# print(network)"
   ]
  },
  {
   "cell_type": "code",
   "execution_count": 31,
   "id": "b048d53b-c025-45b2-b781-cbc3a72d421e",
   "metadata": {},
   "outputs": [],
   "source": [
    "def forward(network,x):\n",
    "    W1, W2 = network['W1'],network['W2']\n",
    "    z1 = sigmoid_func(np.dot(W1,np.append([1],x)))\n",
    "    y = np.dot(W2,np.append([1],z1))\n",
    "    return y"
   ]
  },
  {
   "cell_type": "code",
   "execution_count": 21,
   "id": "ddb132de-070d-41d0-9444-00d27d5dff0d",
   "metadata": {},
   "outputs": [
    {
     "name": "stdout",
     "output_type": "stream",
     "text": [
      "[-1.88953648 -0.13595125 -0.77998781]\n"
     ]
    }
   ],
   "source": [
    "network = init_network()\n",
    "x = np.array([0.2, 0.7])\n",
    "y = forward(network,x)\n",
    "print(y)"
   ]
  }
 ],
 "metadata": {
  "kernelspec": {
   "display_name": "Python [conda env:base] *",
   "language": "python",
   "name": "conda-base-py"
  },
  "language_info": {
   "codemirror_mode": {
    "name": "ipython",
    "version": 3
   },
   "file_extension": ".py",
   "mimetype": "text/x-python",
   "name": "python",
   "nbconvert_exporter": "python",
   "pygments_lexer": "ipython3",
   "version": "3.12.7"
  }
 },
 "nbformat": 4,
 "nbformat_minor": 5
}
