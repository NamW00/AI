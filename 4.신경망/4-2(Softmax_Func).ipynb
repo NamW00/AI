{
 "cells": [
  {
   "cell_type": "code",
   "execution_count": 2,
   "id": "e38b92fa-0ff2-4bd2-b00a-5bf20a2b3da0",
   "metadata": {},
   "outputs": [],
   "source": [
    "import numpy as np"
   ]
  },
  {
   "cell_type": "code",
   "execution_count": 4,
   "id": "1d8565f4-8b19-4180-b3fc-d3c13a70dec0",
   "metadata": {},
   "outputs": [
    {
     "name": "stdout",
     "output_type": "stream",
     "text": [
      "[ 1.34985881 18.17414537 54.59815003]\n"
     ]
    }
   ],
   "source": [
    "a = np.array([0.3,2.9,4.0])\n",
    "\n",
    "exp_a = np.exp(a)\n",
    "# e^(a[i])의 값\n",
    "print(exp_a)"
   ]
  },
  {
   "cell_type": "code",
   "execution_count": 6,
   "id": "b8a25819-24e7-4f20-9886-9b91777e7a3c",
   "metadata": {},
   "outputs": [
    {
     "name": "stdout",
     "output_type": "stream",
     "text": [
      "74.1221542101633\n"
     ]
    }
   ],
   "source": [
    "sum_exp_a = np.sum(exp_a)\n",
    "print(sum_exp_a)"
   ]
  },
  {
   "cell_type": "code",
   "execution_count": 8,
   "id": "f5c7902e-f0db-4ef0-b497-da144aa648ca",
   "metadata": {},
   "outputs": [
    {
     "name": "stdout",
     "output_type": "stream",
     "text": [
      "[0.01821127 0.24519181 0.73659691]\n",
      "1.0\n"
     ]
    }
   ],
   "source": [
    "y = exp_a/sum_exp_a\n",
    "print(y)\n",
    "print(np.sum(y))"
   ]
  },
  {
   "cell_type": "code",
   "execution_count": 10,
   "id": "b5ca3acd-2b11-44c6-8b8a-cd3de14d8d47",
   "metadata": {},
   "outputs": [],
   "source": [
    "def softmax_func(a):\n",
    "    exp_a = np.exp(a)\n",
    "    sum_exp_a = np.sum(exp_a)\n",
    "    y = exp_a/sum_exp_a\n",
    "    return y"
   ]
  },
  {
   "cell_type": "code",
   "execution_count": 12,
   "id": "e6baa1ca-0d39-4395-9bc6-95af7c652bfe",
   "metadata": {},
   "outputs": [
    {
     "name": "stdout",
     "output_type": "stream",
     "text": [
      "[0.01821127 0.24519181 0.73659691]\n"
     ]
    }
   ],
   "source": [
    "print(softmax_func(a))"
   ]
  },
  {
   "cell_type": "code",
   "execution_count": 14,
   "id": "21af7154-8ce4-4954-9aba-e4348db62bbc",
   "metadata": {},
   "outputs": [],
   "source": [
    "def softmax_func(a):\n",
    "    c = np.max(a)\n",
    "    exp_a = np.exp(a - c)\n",
    "    sum_exp_a = np.sum(exp_a)\n",
    "    y = exp_a/sum_exp_a\n",
    "    return y"
   ]
  },
  {
   "cell_type": "code",
   "execution_count": 16,
   "id": "94e965bb-3c17-4632-832b-2a8a14e03e28",
   "metadata": {},
   "outputs": [
    {
     "data": {
      "text/plain": [
       "array([9.99954600e-01, 4.53978686e-05, 2.06106005e-09])"
      ]
     },
     "execution_count": 16,
     "metadata": {},
     "output_type": "execute_result"
    }
   ],
   "source": [
    "a = np.array([1010, 1000, 990]) # -> 값이 너무 커져서 오버플로우 발생\n",
    "softmax_func(a)"
   ]
  },
  {
   "cell_type": "code",
   "execution_count": null,
   "id": "93886996-70ef-4826-ae51-d0625cffe779",
   "metadata": {},
   "outputs": [],
   "source": []
  }
 ],
 "metadata": {
  "kernelspec": {
   "display_name": "Python [conda env:base] *",
   "language": "python",
   "name": "conda-base-py"
  },
  "language_info": {
   "codemirror_mode": {
    "name": "ipython",
    "version": 3
   },
   "file_extension": ".py",
   "mimetype": "text/x-python",
   "name": "python",
   "nbconvert_exporter": "python",
   "pygments_lexer": "ipython3",
   "version": "3.12.7"
  }
 },
 "nbformat": 4,
 "nbformat_minor": 5
}
