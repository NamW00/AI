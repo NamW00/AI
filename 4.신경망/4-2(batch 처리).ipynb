{
 "cells": [
  {
   "cell_type": "code",
   "execution_count": 5,
   "id": "ffca6be7-c9a1-4fe3-bf21-040862d7c667",
   "metadata": {},
   "outputs": [],
   "source": [
    "import numpy as np\n",
    "import pickle # Dictionary 형태의 데이터 불러오는것\n",
    "from mnist import load_mnist\n",
    "from functions import sigmoid, softmax\n",
    "import time"
   ]
  },
  {
   "cell_type": "code",
   "execution_count": 7,
   "id": "b9954596-c7e9-4042-b916-36dbe87c4013",
   "metadata": {},
   "outputs": [],
   "source": [
    "def get_testdata():\n",
    "    (x_train, t_train), (x_test, t_test) = load_mnist(flatten=True, normalize=False)\n",
    "    return x_test, t_test"
   ]
  },
  {
   "cell_type": "code",
   "execution_count": 9,
   "id": "dda57c65-f886-49cc-99c9-28c6fd4458d2",
   "metadata": {},
   "outputs": [],
   "source": [
    "def init_network():\n",
    "    with open(\"sample_weights.pickle\", 'rb') as f:\n",
    "        network = pickle.load(f)\n",
    "    return network"
   ]
  },
  {
   "cell_type": "code",
   "execution_count": 11,
   "id": "63ac2b68-a286-4251-94f4-bfed8e859d6f",
   "metadata": {},
   "outputs": [],
   "source": [
    "def predict(network, x):\n",
    "    W1, W2, W3 = network['W1'].transpose(), network['W2'].transpose(), network['W3'].transpose()\n",
    "    b = [1] if x.ndim==1 else np.ones((len(x),1))\n",
    "    \n",
    "    x = np.append(b,x,axis=1)\n",
    "    a1 = np.dot(x, W1) #transpose 했기 때문에 (W1, x) -> (x, W1)위치 바꿔줌\n",
    "    z1 = np.append(b,sigmoid(a1), axis=1)\n",
    "    a2 = np.dot(z1,W2)\n",
    "    z2 = np.append(b,sigmoid(a2), axis=1)\n",
    "    a3 = np.dot(z2,W3)\n",
    "    y = softmax(a3)\n",
    "    return y"
   ]
  },
  {
   "cell_type": "code",
   "execution_count": 15,
   "id": "82b91466-863b-4964-a8bc-e7825099205e",
   "metadata": {},
   "outputs": [
    {
     "name": "stdout",
     "output_type": "stream",
     "text": [
      "Computation time: 0.18601036071777344\n",
      "Accuracy: 0.9207\n"
     ]
    }
   ],
   "source": [
    "x, t = get_testdata()\n",
    "network = init_network()\n",
    "\n",
    "batch_size = 100 # 배치 크기\n",
    "\n",
    "s_time = time.time() #실행하는데 시간이 얼마나 걸렸나 측정\n",
    "accuracy_cnt = 0\n",
    "\n",
    "for i in range(0,len(x),batch_size): # 0부터 9999까지 100개씩 나눠서 -> 100번 반복\n",
    "    x_batch = x[i:i+batch_size] # (0~99, 100~199, ... , 9900~9999)\n",
    "    y_batch = predict(network,x_batch) # 100개씩 predict하겠다\n",
    "    p = np.argmax(y_batch, axis=1)\n",
    "    accuracy_cnt += np.sum(p==t[i:i+batch_size]) # 얼마나 맞추는지(정확성 체크) -> 다 더해서 전체 수에서 확률로 구해줌)\n",
    "\n",
    "e_time = time.time()\n",
    "\n",
    "print(\"Computation time:\", e_time-s_time)\n",
    "print(\"Accuracy:\", accuracy_cnt/len(x))"
   ]
  },
  {
   "cell_type": "code",
   "execution_count": 17,
   "id": "82d2ce87-9b28-49c2-9474-cf5fcb81c212",
   "metadata": {},
   "outputs": [
    {
     "name": "stdout",
     "output_type": "stream",
     "text": [
      "[8 4 0 1 2 9 4 5 6 7 8 0 1 2 3 4 9 8 9 7 8 6 4 1 9 3 8 4 4 7 0 1 9 2 8 7 8\n",
      " 2 6 0 0 6 3 3 8 9 1 4 0 6 1 0 0 6 2 1 1 7 7 8 4 6 0 7 0 3 6 8 7 1 3 2 4 9\n",
      " 4 2 6 4 1 7 2 6 2 0 1 2 8 4 5 6 7 8 9 0 1 2 3 4 8 6]\n"
     ]
    }
   ],
   "source": [
    "print(p) #9900~9999까지 출력"
   ]
  },
  {
   "cell_type": "code",
   "execution_count": 19,
   "id": "8daa601d-5900-41dd-8fdf-7cae57b672d8",
   "metadata": {},
   "outputs": [
    {
     "data": {
      "text/plain": [
       "array([8, 9, 0, 1, 2, 3, 4, 5, 6, 7, 8, 0, 1, 2, 3, 4, 7, 8, 9, 7, 8, 6,\n",
       "       4, 1, 9, 3, 8, 4, 4, 7, 0, 1, 9, 2, 8, 7, 8, 2, 6, 0, 6, 5, 3, 3,\n",
       "       3, 9, 1, 4, 0, 6, 1, 0, 0, 6, 2, 1, 1, 7, 7, 8, 4, 6, 0, 7, 0, 3,\n",
       "       6, 8, 7, 1, 5, 2, 4, 9, 4, 3, 6, 4, 1, 7, 2, 6, 5, 0, 1, 2, 3, 4,\n",
       "       5, 6, 7, 8, 9, 0, 1, 2, 3, 4, 5, 6], dtype=uint8)"
      ]
     },
     "execution_count": 19,
     "metadata": {},
     "output_type": "execute_result"
    }
   ],
   "source": [
    "t[9900:10000] #실제값"
   ]
  },
  {
   "cell_type": "code",
   "execution_count": 21,
   "id": "406cc26a-8e58-423e-b577-dbd4daaf5314",
   "metadata": {},
   "outputs": [
    {
     "data": {
      "text/plain": [
       "89"
      ]
     },
     "execution_count": 21,
     "metadata": {},
     "output_type": "execute_result"
    }
   ],
   "source": [
    "np.sum(p == t[9900:10000])"
   ]
  },
  {
   "cell_type": "code",
   "execution_count": null,
   "id": "9242d0e4-d066-44c0-b1eb-68e6a9d2f8a9",
   "metadata": {},
   "outputs": [],
   "source": []
  }
 ],
 "metadata": {
  "kernelspec": {
   "display_name": "Python [conda env:base] *",
   "language": "python",
   "name": "conda-base-py"
  },
  "language_info": {
   "codemirror_mode": {
    "name": "ipython",
    "version": 3
   },
   "file_extension": ".py",
   "mimetype": "text/x-python",
   "name": "python",
   "nbconvert_exporter": "python",
   "pygments_lexer": "ipython3",
   "version": "3.12.7"
  }
 },
 "nbformat": 4,
 "nbformat_minor": 5
}
