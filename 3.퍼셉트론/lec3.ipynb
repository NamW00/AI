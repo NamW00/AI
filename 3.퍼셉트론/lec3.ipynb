{
 "cells": [
  {
   "cell_type": "code",
   "execution_count": 3,
   "id": "1516350b-0a37-4f68-a755-f4f3a57d123b",
   "metadata": {},
   "outputs": [],
   "source": [
    "import numpy as np"
   ]
  },
  {
   "cell_type": "code",
   "execution_count": 5,
   "id": "6bdbb79d-b9d2-4b54-a822-4f3b17b90822",
   "metadata": {},
   "outputs": [],
   "source": [
    "class perceptron:\n",
    "    def __init__(self, w):\n",
    "        self.w = w\n",
    "\n",
    "    def output(self, x):\n",
    "        y_tmp = np.dot(self.w, np.append([1], x))\n",
    "        return 1.0*(y_tmp>0)"
   ]
  },
  {
   "cell_type": "code",
   "execution_count": 15,
   "id": "95640374-c1da-4941-9a9b-531e8f4c7c4d",
   "metadata": {},
   "outputs": [
    {
     "data": {
      "text/plain": [
       "1.0"
      ]
     },
     "execution_count": 15,
     "metadata": {},
     "output_type": "execute_result"
    }
   ],
   "source": [
    "w = np.array([1,1,1])\n",
    "gate = perceptron(w)\n",
    "gate.output([0,3])"
   ]
  },
  {
   "cell_type": "code",
   "execution_count": 12,
   "id": "6a807921-39c1-4e97-b390-0dcf0baa6f42",
   "metadata": {},
   "outputs": [
    {
     "data": {
      "text/plain": [
       "0.0"
      ]
     },
     "execution_count": 12,
     "metadata": {},
     "output_type": "execute_result"
    }
   ],
   "source": [
    "w = np.array([1,1,1])\n",
    "gate = perceptron(w)\n",
    "gate.output([0,-3])"
   ]
  },
  {
   "cell_type": "code",
   "execution_count": 16,
   "id": "2bd217e8-e977-4669-9e25-3bd5a16e8cf3",
   "metadata": {},
   "outputs": [
    {
     "name": "stdout",
     "output_type": "stream",
     "text": [
      "[0, 0] -> 0.0\n",
      "[1, 0] -> 0.0\n",
      "[0, 1] -> 0.0\n",
      "[1, 1] -> 1.0\n"
     ]
    }
   ],
   "source": [
    "w = np.array([-1.2, 1, 1])\n",
    "and_gate = perceptron(w)\n",
    "x_list = [[0,0],[1,0],[0,1],[1,1]]\n",
    "\n",
    "for x in x_list:\n",
    "    print(x,'->', and_gate.output(x))"
   ]
  },
  {
   "cell_type": "code",
   "execution_count": 18,
   "id": "f185f139-154a-4185-b010-0d7a9f27e78e",
   "metadata": {},
   "outputs": [
    {
     "name": "stdout",
     "output_type": "stream",
     "text": [
      "[0, 0] -> 0.0\n",
      "[1, 0] -> 1.0\n",
      "[0, 1] -> 1.0\n",
      "[1, 1] -> 1.0\n"
     ]
    }
   ],
   "source": [
    "w = np.array([-0.5, 1, 1])\n",
    "or_gate = perceptron(w)\n",
    "x_list = [[0,0],[1,0],[0,1],[1,1]]\n",
    "\n",
    "for x in x_list:\n",
    "    print(x,'->', or_gate.output(x))"
   ]
  },
  {
   "cell_type": "code",
   "execution_count": 20,
   "id": "9ab51ad4-6198-4606-a10e-0e2a149e79f5",
   "metadata": {},
   "outputs": [
    {
     "name": "stdout",
     "output_type": "stream",
     "text": [
      "[0, 0] -> 1.0\n",
      "[1, 0] -> 1.0\n",
      "[0, 1] -> 1.0\n",
      "[1, 1] -> 0.0\n"
     ]
    }
   ],
   "source": [
    "w = np.array([-1.2, 1, 1])\n",
    "nand_gate = perceptron(-w)\n",
    "x_list = [[0,0],[1,0],[0,1],[1,1]]\n",
    "\n",
    "for x in x_list:\n",
    "    print(x,'->', nand_gate.output(x))"
   ]
  },
  {
   "cell_type": "code",
   "execution_count": 22,
   "id": "9c4819e0-a001-49f8-ab95-e841200bf2c7",
   "metadata": {},
   "outputs": [
    {
     "name": "stdout",
     "output_type": "stream",
     "text": [
      "[0, 0] -> 0.0\n",
      "[1, 0] -> 1.0\n",
      "[0, 1] -> 1.0\n",
      "[1, 1] -> 0.0\n"
     ]
    }
   ],
   "source": [
    "for x in x_list:\n",
    "    xor_gate = and_gate.output([nand_gate.output(x), or_gate.output(x)])\n",
    "    print(x,'->', xor_gate)"
   ]
  },
  {
   "cell_type": "code",
   "execution_count": 26,
   "id": "e85c01e1-97d2-4f17-a61b-d486e772878d",
   "metadata": {},
   "outputs": [
    {
     "data": {
      "text/plain": [
       "array([0.5, 1. , 1. ])"
      ]
     },
     "execution_count": 26,
     "metadata": {},
     "output_type": "execute_result"
    }
   ],
   "source": [
    "eta = 0.5\n",
    "w = np.array([1,1,1])\n",
    "and_gate = perceptron(w)\n",
    "and_gate.w = and_gate.w + eta*np.array([-1, 0, 0])\n",
    "and_gate.w"
   ]
  }
 ],
 "metadata": {
  "kernelspec": {
   "display_name": "Python [conda env:base] *",
   "language": "python",
   "name": "conda-base-py"
  },
  "language_info": {
   "codemirror_mode": {
    "name": "ipython",
    "version": 3
   },
   "file_extension": ".py",
   "mimetype": "text/x-python",
   "name": "python",
   "nbconvert_exporter": "python",
   "pygments_lexer": "ipython3",
   "version": "3.12.7"
  }
 },
 "nbformat": 4,
 "nbformat_minor": 5
}
