{
 "cells": [
  {
   "cell_type": "code",
   "execution_count": null,
   "metadata": {},
   "outputs": [],
   "source": [
    "import numpy as np\n",
    "import matplotlib.pyplot as plt"
   ]
  },
  {
   "cell_type": "code",
   "execution_count": null,
   "metadata": {},
   "outputs": [],
   "source": [
    "def f(x1, x2):\n",
    "    return x1**2 / 20.0 + x2**2\n",
    "\n",
    "def df(x1, x2):\n",
    "    return x1 / 10.0, 2.0*x2"
   ]
  },
  {
   "cell_type": "code",
   "execution_count": null,
   "metadata": {},
   "outputs": [],
   "source": [
    "class Momentum:\n",
    "    def __init__(self, eta=0.1, momentum=0.9):\n",
    "        self.eta = eta\n",
    "        self.momentum = momentum\n",
    "        self.v = None\n",
    "        \n",
    "    def update(self, params, grads):\n",
    "        if self.v is None:\n",
    "            self.v = {}\n",
    "            for key, w in params.items():                                \n",
    "                self.v[key] = np.zeros_like(w)\n",
    "                \n",
    "        for key in params.keys():\n",
    "            self.v[key] = self.momentum*self.v[key] - self.eta*grads[key] \n",
    "            params[key] += self.v[key]"
   ]
  },
  {
   "cell_type": "code",
   "execution_count": null,
   "metadata": {},
   "outputs": [],
   "source": [
    "x1_history = []\n",
    "x2_history = []\n",
    "params = {}\n",
    "grads = {}\n",
    "params['x1'], params['x2'] = -7.0, 2.0\n",
    "\n",
    "optimizer = Momentum()\n",
    "    \n",
    "for i in range(30):\n",
    "    x1_history.append(params['x1'])\n",
    "    x2_history.append(params['x2'])\n",
    "        \n",
    "    grads['x1'], grads['x2'] = df(params['x1'], params['x2'])\n",
    "    optimizer.update(params, grads)    \n",
    "\n",
    "scope1 = np.arange(-10, 10, 0.01)\n",
    "scope2 = np.arange(-5, 5, 0.01)    \n",
    "X, Y = np.meshgrid(scope1, scope2) \n",
    "Z = f(X, Y)\n",
    "    \n",
    "# 외곽선 단순화\n",
    "mask = Z > 7\n",
    "Z[mask] = 0\n",
    "    \n",
    "plt.plot(x1_history, x2_history, 'o-', color=\"red\")\n",
    "plt.contour(X, Y, Z)\n",
    "plt.plot(0, 0, '+')\n",
    "plt.title('Momentum')\n",
    "plt.xlabel(\"x1\")\n",
    "plt.ylabel(\"x2\")\n",
    "    \n",
    "plt.show()"
   ]
  },
  {
   "cell_type": "code",
   "execution_count": null,
   "metadata": {},
   "outputs": [],
   "source": []
  }
 ],
 "metadata": {
  "kernelspec": {
   "display_name": "Python 3 (ipykernel)",
   "language": "python",
   "name": "python3"
  },
  "language_info": {
   "codemirror_mode": {
    "name": "ipython",
    "version": 3
   },
   "file_extension": ".py",
   "mimetype": "text/x-python",
   "name": "python",
   "nbconvert_exporter": "python",
   "pygments_lexer": "ipython3",
   "version": "3.12.3"
  }
 },
 "nbformat": 4,
 "nbformat_minor": 4
}
