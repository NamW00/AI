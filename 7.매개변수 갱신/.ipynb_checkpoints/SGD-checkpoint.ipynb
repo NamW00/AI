{
 "cells": [
  {
   "cell_type": "code",
   "execution_count": null,
   "metadata": {},
   "outputs": [],
   "source": [
    "import numpy as np\n",
    "import matplotlib.pyplot as plt"
   ]
  },
  {
   "cell_type": "code",
   "execution_count": null,
   "metadata": {},
   "outputs": [],
   "source": [
    "def f(x1, x2):\n",
    "    return x1**2 / 20.0 + x2**2\n",
    "\n",
    "def df(x1, x2):\n",
    "    return x1 / 10.0, 2.0*x2"
   ]
  },
  {
   "cell_type": "code",
   "execution_count": null,
   "metadata": {},
   "outputs": [],
   "source": [
    "scope = np.arange(-10, 10, 0.1)\n",
    "X, Y = np.meshgrid(scope, scope)\n",
    "Z = f(X, Y)\n",
    "\n",
    "fig = plt.figure()\n",
    "ax = fig.add_subplot(projection='3d')             # 3d axes instance\n",
    "surf= ax.plot_surface(X, Y, Z,          # data values (2D Arryas)\n",
    "                       rstride=2,                   # row step size\n",
    "                       cstride=2,                  # column step size\n",
    "                       linewidth=1,               # wireframe line width\n",
    "                       antialiased=True)\n",
    "plt.show()"
   ]
  },
  {
   "cell_type": "code",
   "execution_count": null,
   "metadata": {},
   "outputs": [],
   "source": [
    "scope2 = np.arange(-5, 5, 0.1)\n",
    "    \n",
    "X, Y = np.meshgrid(scope, scope2) \n",
    "Z = f(X, Y)\n",
    "\n",
    "plt.contour(X, Y, Z)\n",
    "plt.plot(0, 0, '+')\n",
    "plt.xlabel(\"x1\")\n",
    "plt.ylabel(\"x2\")\n",
    "    \n",
    "plt.show()"
   ]
  },
  {
   "cell_type": "code",
   "execution_count": null,
   "metadata": {},
   "outputs": [],
   "source": [
    "scope1 = np.arange(-10, 10, 1)\n",
    "scope2 = np.arange(-5, 5, 1)\n",
    "X, Y = np.meshgrid(scope1, scope2) \n",
    "Z = df(X, Y)\n",
    "    \n",
    "plt.quiver(X, Y, -Z[0], -Z[1],  angles=\"xy\")\n",
    "plt.xlabel('x1')\n",
    "plt.ylabel('x2')\n",
    "plt.grid()\n",
    "plt.draw()\n",
    "plt.show()"
   ]
  },
  {
   "cell_type": "code",
   "execution_count": null,
   "metadata": {},
   "outputs": [],
   "source": [
    "class SGD:\n",
    "    def __init__(self, eta=0.95):\n",
    "        self.eta = eta\n",
    "        \n",
    "    def update(self, params, grads):\n",
    "        for key in params.keys():\n",
    "            params[key] -= self.eta*grads[key]"
   ]
  },
  {
   "cell_type": "code",
   "execution_count": null,
   "metadata": {},
   "outputs": [],
   "source": [
    "x1_history = []\n",
    "x2_history = []\n",
    "params = {}\n",
    "grads = {}\n",
    "params['x1'], params['x2'] = -7.0, 2.0\n",
    "\n",
    "optimizer = SGD()\n",
    "    \n",
    "for i in range(30):\n",
    "    x1_history.append(params['x1'])\n",
    "    x2_history.append(params['x2'])\n",
    "        \n",
    "    grads['x1'], grads['x2'] = df(params['x1'], params['x2'])\n",
    "    optimizer.update(params, grads)    \n",
    "\n",
    "scope1 = np.arange(-10, 10, 0.01)\n",
    "scope2 = np.arange(-5, 5, 0.01)    \n",
    "X, Y = np.meshgrid(scope1, scope2) \n",
    "Z = f(X, Y)\n",
    "    \n",
    "# 외곽선 단순화\n",
    "mask = Z > 7\n",
    "Z[mask] = 0\n",
    "    \n",
    "plt.plot(x1_history, x2_history, 'o-', color=\"red\")\n",
    "plt.contour(X, Y, Z)\n",
    "plt.plot(0, 0, '+')\n",
    "plt.title('SGD')\n",
    "plt.xlabel(\"x1\")\n",
    "plt.ylabel(\"x2\")\n",
    "    \n",
    "plt.show()"
   ]
  },
  {
   "cell_type": "code",
   "execution_count": null,
   "metadata": {},
   "outputs": [],
   "source": [
    "aa = {}\n",
    "aa['one'] = 11\n",
    "aa['two'] = 22\n",
    "print(aa)\n",
    "print(aa.items())"
   ]
  },
  {
   "cell_type": "code",
   "execution_count": null,
   "metadata": {},
   "outputs": [],
   "source": []
  }
 ],
 "metadata": {
  "kernelspec": {
   "display_name": "Python 3 (ipykernel)",
   "language": "python",
   "name": "python3"
  },
  "language_info": {
   "codemirror_mode": {
    "name": "ipython",
    "version": 3
   },
   "file_extension": ".py",
   "mimetype": "text/x-python",
   "name": "python",
   "nbconvert_exporter": "python",
   "pygments_lexer": "ipython3",
   "version": "3.12.3"
  }
 },
 "nbformat": 4,
 "nbformat_minor": 4
}
