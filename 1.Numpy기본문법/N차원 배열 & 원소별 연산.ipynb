{
 "cells": [
  {
   "cell_type": "code",
   "execution_count": null,
   "id": "6e26eefc-9bd0-4a92-b9e5-f2c9e3e347ff",
   "metadata": {},
   "outputs": [],
   "source": [
    "# N차원 배열(tensor)\n",
    "# 2차원 numpy 배열(행렬) 생성"
   ]
  },
  {
   "cell_type": "code",
   "execution_count": 22,
   "id": "b1523d25-a05c-4074-a209-265e98d4c406",
   "metadata": {},
   "outputs": [],
   "source": [
    "import numpy as np"
   ]
  },
  {
   "cell_type": "code",
   "execution_count": 26,
   "id": "1c76c4cb-34db-4521-a32e-aff8bc2e3cd0",
   "metadata": {},
   "outputs": [
    {
     "name": "stdout",
     "output_type": "stream",
     "text": [
      "[[1 2]\n",
      " [3 4]]\n"
     ]
    }
   ],
   "source": [
    "A = np.array([[1,2],[3,4]])\n",
    "print(A)"
   ]
  },
  {
   "cell_type": "code",
   "execution_count": 28,
   "id": "0f6843a1-ae2a-493b-b589-bbb1c9df3d7b",
   "metadata": {},
   "outputs": [
    {
     "data": {
      "text/plain": [
       "(2, 2)"
      ]
     },
     "execution_count": 28,
     "metadata": {},
     "output_type": "execute_result"
    }
   ],
   "source": [
    "A.shape"
   ]
  },
  {
   "cell_type": "code",
   "execution_count": 30,
   "id": "aa14fc71-d31e-444d-9ad5-6414e7b640df",
   "metadata": {},
   "outputs": [
    {
     "data": {
      "text/plain": [
       "dtype('int32')"
      ]
     },
     "execution_count": 30,
     "metadata": {},
     "output_type": "execute_result"
    }
   ],
   "source": [
    "A.dtype"
   ]
  },
  {
   "cell_type": "code",
   "execution_count": 32,
   "id": "82021bc8-ee96-47a2-b197-3b9dad2e8ea2",
   "metadata": {},
   "outputs": [],
   "source": [
    "# 원소별 연산\n",
    "import numpy as np"
   ]
  },
  {
   "cell_type": "code",
   "execution_count": 46,
   "id": "da1978f0-76b4-4523-9c9e-e5d11fa7018f",
   "metadata": {},
   "outputs": [],
   "source": [
    "A = np.array([[1,2],[3,4]])\n",
    "B = np.array([[3,1],[1,6]])"
   ]
  },
  {
   "cell_type": "code",
   "execution_count": 48,
   "id": "a46eed9f-a986-4a07-b7d8-52c72969d1f1",
   "metadata": {},
   "outputs": [
    {
     "name": "stdout",
     "output_type": "stream",
     "text": [
      "[[1 2]\n",
      " [3 4]]\n",
      "[[3 1]\n",
      " [1 6]]\n"
     ]
    }
   ],
   "source": [
    "print(A)\n",
    "print(B)"
   ]
  },
  {
   "cell_type": "code",
   "execution_count": 38,
   "id": "11a60774-efbb-4276-a2ad-f24d6e3d8784",
   "metadata": {},
   "outputs": [
    {
     "data": {
      "text/plain": [
       "array([[ 4,  3],\n",
       "       [ 4, 10]])"
      ]
     },
     "execution_count": 38,
     "metadata": {},
     "output_type": "execute_result"
    }
   ],
   "source": [
    "A+B"
   ]
  },
  {
   "cell_type": "code",
   "execution_count": 40,
   "id": "9a91e771-4664-4aae-a3c2-66116378f872",
   "metadata": {},
   "outputs": [
    {
     "data": {
      "text/plain": [
       "array([[-2,  1],\n",
       "       [ 2, -2]])"
      ]
     },
     "execution_count": 40,
     "metadata": {},
     "output_type": "execute_result"
    }
   ],
   "source": [
    "A-B"
   ]
  },
  {
   "cell_type": "code",
   "execution_count": 42,
   "id": "08cbda52-021e-4be6-9a5a-665b2f075037",
   "metadata": {},
   "outputs": [
    {
     "data": {
      "text/plain": [
       "array([[ 3,  2],\n",
       "       [ 3, 24]])"
      ]
     },
     "execution_count": 42,
     "metadata": {},
     "output_type": "execute_result"
    }
   ],
   "source": [
    "A*B #파이썬에서의 행렬 곱은 그냥 원소끼리의 곱이다."
   ]
  },
  {
   "cell_type": "code",
   "execution_count": 44,
   "id": "f9371c03-7737-40ca-a77f-ffd7cfa13bb0",
   "metadata": {},
   "outputs": [
    {
     "data": {
      "text/plain": [
       "array([[0.33333333, 2.        ],\n",
       "       [3.        , 0.66666667]])"
      ]
     },
     "execution_count": 44,
     "metadata": {},
     "output_type": "execute_result"
    }
   ],
   "source": [
    "A/B"
   ]
  },
  {
   "cell_type": "code",
   "execution_count": null,
   "id": "efe7d914-9bd5-4bbb-8928-0222d10f6f40",
   "metadata": {},
   "outputs": [],
   "source": []
  }
 ],
 "metadata": {
  "kernelspec": {
   "display_name": "Python [conda env:base] *",
   "language": "python",
   "name": "conda-base-py"
  },
  "language_info": {
   "codemirror_mode": {
    "name": "ipython",
    "version": 3
   },
   "file_extension": ".py",
   "mimetype": "text/x-python",
   "name": "python",
   "nbconvert_exporter": "python",
   "pygments_lexer": "ipython3",
   "version": "3.12.7"
  }
 },
 "nbformat": 4,
 "nbformat_minor": 5
}
