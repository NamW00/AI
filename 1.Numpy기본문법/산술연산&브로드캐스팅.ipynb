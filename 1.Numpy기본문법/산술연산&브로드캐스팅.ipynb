{
 "cells": [
  {
   "cell_type": "markdown",
   "id": "1a7dc6de-765a-4f64-81ee-fdb4dc753d61",
   "metadata": {},
   "source": [
    "<span style= \"color:red; font-size:30px\">산술 연산(Element-wise product)</span><br>\n",
    "1. <span style= \"color:blue; font-size:22px\">원소별 연산(Element-wise product)</span>\n",
    "    * 동일한 형태의 numpy 배열 사이 산술연산"
   ]
  },
  {
   "cell_type": "code",
   "execution_count": 45,
   "id": "1adc4ef9-f91e-4b42-b036-53803f0cc387",
   "metadata": {},
   "outputs": [],
   "source": [
    "import numpy as np"
   ]
  },
  {
   "cell_type": "code",
   "execution_count": 47,
   "id": "d675d8d9-a9bb-42bd-80eb-31c2dcafdc66",
   "metadata": {},
   "outputs": [],
   "source": [
    "x = np.array([1.0, 2.0, 3.0])\n",
    "y = np.array([2.0, 2.0, 3.0])"
   ]
  },
  {
   "cell_type": "code",
   "execution_count": 49,
   "id": "77bf385b-c945-4904-a48e-7c260f44126e",
   "metadata": {},
   "outputs": [
    {
     "data": {
      "text/plain": [
       "array([3., 4., 6.])"
      ]
     },
     "execution_count": 49,
     "metadata": {},
     "output_type": "execute_result"
    }
   ],
   "source": [
    "x+y"
   ]
  },
  {
   "cell_type": "code",
   "execution_count": 51,
   "id": "85306ecb-30b9-4a46-8e01-29025834d5fc",
   "metadata": {},
   "outputs": [
    {
     "data": {
      "text/plain": [
       "array([-1.,  0.,  0.])"
      ]
     },
     "execution_count": 51,
     "metadata": {},
     "output_type": "execute_result"
    }
   ],
   "source": [
    "x-y"
   ]
  },
  {
   "cell_type": "code",
   "execution_count": 53,
   "id": "ad765fc5-059f-45a9-a155-12bf722dd82b",
   "metadata": {},
   "outputs": [
    {
     "data": {
      "text/plain": [
       "array([2., 4., 9.])"
      ]
     },
     "execution_count": 53,
     "metadata": {},
     "output_type": "execute_result"
    }
   ],
   "source": [
    "x*y"
   ]
  },
  {
   "cell_type": "code",
   "execution_count": 55,
   "id": "9256a290-0eb6-4120-ad51-e51eee80068e",
   "metadata": {},
   "outputs": [
    {
     "data": {
      "text/plain": [
       "array([0.5, 1. , 1. ])"
      ]
     },
     "execution_count": 55,
     "metadata": {},
     "output_type": "execute_result"
    }
   ],
   "source": [
    "x/y"
   ]
  },
  {
   "cell_type": "markdown",
   "id": "29f2592a-d28b-46e7-a51e-57f554ded28e",
   "metadata": {},
   "source": [
    "2. <span style= \"color:blue; font-size:22px\">브로드캐스팅(Broadcasting)</span>\n",
    "    * Numpy 배열과 스칼라 값의 산술연산"
   ]
  },
  {
   "cell_type": "code",
   "execution_count": 57,
   "id": "b1523d25-a05c-4074-a209-265e98d4c406",
   "metadata": {},
   "outputs": [],
   "source": [
    "import numpy as np"
   ]
  },
  {
   "cell_type": "code",
   "execution_count": 59,
   "id": "1c76c4cb-34db-4521-a32e-aff8bc2e3cd0",
   "metadata": {},
   "outputs": [],
   "source": [
    "x = np.array([1.0, 2.0, 3.0])\n",
    "y = np.array([2.0, 4.0, 6.0])\n"
   ]
  },
  {
   "cell_type": "code",
   "execution_count": 61,
   "id": "ba0e9d0b-e475-47a2-9cd8-aa1d023fa6bc",
   "metadata": {},
   "outputs": [
    {
     "data": {
      "text/plain": [
       "array([3., 4., 5.])"
      ]
     },
     "execution_count": 61,
     "metadata": {},
     "output_type": "execute_result"
    }
   ],
   "source": [
    "x+2.0"
   ]
  },
  {
   "cell_type": "code",
   "execution_count": 63,
   "id": "3a47fb08-c0f6-4ea8-8da1-2c66b92548f0",
   "metadata": {
    "scrolled": true
   },
   "outputs": [
    {
     "data": {
      "text/plain": [
       "array([-1.,  0.,  1.])"
      ]
     },
     "execution_count": 63,
     "metadata": {},
     "output_type": "execute_result"
    }
   ],
   "source": [
    "x-2"
   ]
  },
  {
   "cell_type": "code",
   "execution_count": 65,
   "id": "a762e86c-f337-48f4-b58c-381530fadd99",
   "metadata": {},
   "outputs": [
    {
     "data": {
      "text/plain": [
       "array([2., 4., 6.])"
      ]
     },
     "execution_count": 65,
     "metadata": {},
     "output_type": "execute_result"
    }
   ],
   "source": [
    "x*2"
   ]
  },
  {
   "cell_type": "code",
   "execution_count": 67,
   "id": "2ff07fb7-0465-43a6-967c-060c11ed65c2",
   "metadata": {
    "scrolled": true
   },
   "outputs": [
    {
     "data": {
      "text/plain": [
       "array([0.5, 1. , 1.5])"
      ]
     },
     "execution_count": 67,
     "metadata": {},
     "output_type": "execute_result"
    }
   ],
   "source": [
    "x/2"
   ]
  }
 ],
 "metadata": {
  "kernelspec": {
   "display_name": "Python [conda env:base] *",
   "language": "python",
   "name": "conda-base-py"
  },
  "language_info": {
   "codemirror_mode": {
    "name": "ipython",
    "version": 3
   },
   "file_extension": ".py",
   "mimetype": "text/x-python",
   "name": "python",
   "nbconvert_exporter": "python",
   "pygments_lexer": "ipython3",
   "version": "3.12.7"
  }
 },
 "nbformat": 4,
 "nbformat_minor": 5
}
