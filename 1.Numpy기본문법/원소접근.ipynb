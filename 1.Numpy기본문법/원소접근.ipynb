{
 "cells": [
  {
   "cell_type": "code",
   "execution_count": 11,
   "id": "ab1f67ab-a8fe-4a7c-bc21-ccc974e1cfe5",
   "metadata": {},
   "outputs": [],
   "source": [
    "import numpy as np"
   ]
  },
  {
   "cell_type": "code",
   "execution_count": 19,
   "id": "ce65846a-c95e-4909-81d7-11bee563c398",
   "metadata": {},
   "outputs": [
    {
     "name": "stdout",
     "output_type": "stream",
     "text": [
      "[[ 0  1  2  3]\n",
      " [ 4  5  6  7]\n",
      " [ 8  9 10 11]]\n"
     ]
    }
   ],
   "source": [
    "X = np.arange(12).reshape(3,-1)\n",
    "print(X)"
   ]
  },
  {
   "cell_type": "code",
   "execution_count": 15,
   "id": "d8578c6e-96be-4343-9988-6c687312ffd2",
   "metadata": {},
   "outputs": [
    {
     "data": {
      "text/plain": [
       "array([10, 11, 12, 13])"
      ]
     },
     "execution_count": 15,
     "metadata": {},
     "output_type": "execute_result"
    }
   ],
   "source": [
    "X[0]"
   ]
  },
  {
   "cell_type": "code",
   "execution_count": 17,
   "id": "e1e68873-1893-48b3-9f3a-482949165aef",
   "metadata": {},
   "outputs": [
    {
     "data": {
      "text/plain": [
       "16"
      ]
     },
     "execution_count": 17,
     "metadata": {},
     "output_type": "execute_result"
    }
   ],
   "source": [
    "X[1,2]"
   ]
  },
  {
   "cell_type": "code",
   "execution_count": 21,
   "id": "23155537-0ece-4869-9e27-e933d61b911f",
   "metadata": {},
   "outputs": [
    {
     "data": {
      "text/plain": [
       "array([[ 6,  7],\n",
       "       [10, 11]])"
      ]
     },
     "execution_count": 21,
     "metadata": {},
     "output_type": "execute_result"
    }
   ],
   "source": [
    "# 슬라이싱\n",
    "X[1:3, 2:4]"
   ]
  },
  {
   "cell_type": "code",
   "execution_count": 25,
   "id": "63967273-898d-4b1a-9495-7472e46e0c32",
   "metadata": {},
   "outputs": [
    {
     "name": "stdout",
     "output_type": "stream",
     "text": [
      "[[ 0  1  2  3]\n",
      " [ 4  5  6  7]\n",
      " [ 8  9 10 11]]\n",
      "[0 1 2 3]\n",
      "[4 5 6 7]\n",
      "[ 8  9 10 11]\n"
     ]
    }
   ],
   "source": [
    "print(X)\n",
    "for row in X:\n",
    "    print(row)"
   ]
  },
  {
   "cell_type": "code",
   "execution_count": 31,
   "id": "b9e3c4a0-b5c3-4a6a-8186-4cf6fe306187",
   "metadata": {},
   "outputs": [
    {
     "name": "stdout",
     "output_type": "stream",
     "text": [
      "[ 1  2  3  4  5  6  7  8  9 10 11 12]\n"
     ]
    }
   ],
   "source": [
    "Y = X.flatten() + 1\n",
    "print(Y)"
   ]
  },
  {
   "cell_type": "code",
   "execution_count": 33,
   "id": "071499ab-d592-4171-b884-a728fac646cf",
   "metadata": {},
   "outputs": [
    {
     "name": "stdout",
     "output_type": "stream",
     "text": [
      "[2 5 8]\n"
     ]
    }
   ],
   "source": [
    "# indices(해당 번쨰 인덱스 값을 색출해낸다)\n",
    "indices = [1, 4, 7]\n",
    "print(Y[indices])"
   ]
  },
  {
   "cell_type": "code",
   "execution_count": 35,
   "id": "fd2c17fa-8396-4552-80d8-0fb4a71adee0",
   "metadata": {},
   "outputs": [
    {
     "name": "stdout",
     "output_type": "stream",
     "text": [
      "[False False False False False False False False False False False False]\n",
      "[]\n"
     ]
    }
   ],
   "source": [
    "print(Y>15)\n",
    "#각 인덱스 값이 해당조건에 만족하는지 참 거짓 판단\n",
    "# a = Y > 15\n",
    "# print(a)\n",
    "print(Y[Y>15])"
   ]
  },
  {
   "cell_type": "code",
   "execution_count": null,
   "id": "7a458a5e-3fde-4b4e-93be-a7b150a7b8af",
   "metadata": {},
   "outputs": [],
   "source": [
    "# 행렬 곱 해주는 연산자\n",
    "print(A)\n",
    "print(B)\n",
    "np.dot(A,B) \n",
    "# print(np.dot(A,B))\n",
    "# print(B.dot(A))"
   ]
  }
 ],
 "metadata": {
  "kernelspec": {
   "display_name": "Python [conda env:base] *",
   "language": "python",
   "name": "conda-base-py"
  },
  "language_info": {
   "codemirror_mode": {
    "name": "ipython",
    "version": 3
   },
   "file_extension": ".py",
   "mimetype": "text/x-python",
   "name": "python",
   "nbconvert_exporter": "python",
   "pygments_lexer": "ipython3",
   "version": "3.12.7"
  }
 },
 "nbformat": 4,
 "nbformat_minor": 5
}
