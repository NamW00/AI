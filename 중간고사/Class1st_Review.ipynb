{
 "cells": [
  {
   "cell_type": "markdown",
   "id": "4f89a34f-a8f4-4bad-a18f-3eaf7c1f7769",
   "metadata": {},
   "source": [
    "<span style = \"color:red; font-size:25px\">1. Numpy 배열 생성하기</span><br>"
   ]
  },
  {
   "cell_type": "code",
   "execution_count": 3,
   "id": "67b512d8-4191-4dfb-8f83-c5927d52f664",
   "metadata": {},
   "outputs": [],
   "source": [
    "import numpy as np"
   ]
  },
  {
   "cell_type": "code",
   "execution_count": 5,
   "id": "e305c152-6bd1-4887-be77-67316a890a08",
   "metadata": {},
   "outputs": [
    {
     "name": "stdout",
     "output_type": "stream",
     "text": [
      "[1 2 3]\n",
      "<class 'numpy.ndarray'>\n",
      "(3,)\n"
     ]
    }
   ],
   "source": [
    "x = np.array([1, 2, 3])\n",
    "print(x)\n",
    "print(type(x))\n",
    "print(x.shape)"
   ]
  },
  {
   "cell_type": "markdown",
   "id": "584cce21-9a5b-4a24-983d-dcf1b2d530f3",
   "metadata": {},
   "source": [
    "---\n",
    "<span style = \"color:red; font-size:25px\">2.산술연산</span><br>\n",
    "1. 원소별 연산(Element-wise product)\n",
    "    * 동일한 형태의 numpy 배열 사이 산술연산"
   ]
  },
  {
   "cell_type": "code",
   "execution_count": 102,
   "id": "808dc1e5-f9fd-476a-ad3c-8d19f13cd5d9",
   "metadata": {},
   "outputs": [],
   "source": [
    "x = np.array([1.0, 2.0, 3.0])\n",
    "y = np.array([2.0, 4.0, 6.0])"
   ]
  },
  {
   "cell_type": "code",
   "execution_count": 21,
   "id": "0db8a28b-ad64-4ebc-ac60-0c97af4a8143",
   "metadata": {},
   "outputs": [
    {
     "data": {
      "text/plain": [
       "array([3., 6., 9.])"
      ]
     },
     "execution_count": 21,
     "metadata": {},
     "output_type": "execute_result"
    }
   ],
   "source": [
    "x+y"
   ]
  },
  {
   "cell_type": "code",
   "execution_count": 23,
   "id": "3817131b-adfd-40a5-bd1c-8985ac7d802b",
   "metadata": {},
   "outputs": [
    {
     "data": {
      "text/plain": [
       "array([-1., -2., -3.])"
      ]
     },
     "execution_count": 23,
     "metadata": {},
     "output_type": "execute_result"
    }
   ],
   "source": [
    "x-y"
   ]
  },
  {
   "cell_type": "code",
   "execution_count": 25,
   "id": "aa4d90b7-ac63-4970-a6d4-9ac16fac86ef",
   "metadata": {},
   "outputs": [
    {
     "data": {
      "text/plain": [
       "array([ 2.,  8., 18.])"
      ]
     },
     "execution_count": 25,
     "metadata": {},
     "output_type": "execute_result"
    }
   ],
   "source": [
    "x*y"
   ]
  },
  {
   "cell_type": "code",
   "execution_count": 27,
   "id": "11730f79-c70c-46ea-965e-1ca9b6821982",
   "metadata": {},
   "outputs": [
    {
     "data": {
      "text/plain": [
       "array([0.5, 0.5, 0.5])"
      ]
     },
     "execution_count": 27,
     "metadata": {},
     "output_type": "execute_result"
    }
   ],
   "source": [
    "x/y"
   ]
  },
  {
   "cell_type": "markdown",
   "id": "1fb07179-102a-4641-9668-9aefd5f37b5e",
   "metadata": {},
   "source": [
    "2. 브로드캐스팅(Broadcasting)\n",
    "   - Numpy 배열과 스칼라 값의 산술연산\n",
    "     - 형태가 다른 배열들 간의 연산이 가능해 지도록 배열을 자동적으로 변환"
   ]
  },
  {
   "cell_type": "code",
   "execution_count": 34,
   "id": "8645d236-37b9-4415-9eba-e9febe01ba58",
   "metadata": {},
   "outputs": [],
   "source": [
    "x = np.array([1.0, 2.0, 3.0])\n",
    "y = np.array([2.0, 4.0, 6.0])"
   ]
  },
  {
   "cell_type": "code",
   "execution_count": 36,
   "id": "d3ce4afc-87c1-478d-a164-77f2b9979574",
   "metadata": {},
   "outputs": [
    {
     "data": {
      "text/plain": [
       "array([3., 4., 5.])"
      ]
     },
     "execution_count": 36,
     "metadata": {},
     "output_type": "execute_result"
    }
   ],
   "source": [
    "x+2.0"
   ]
  },
  {
   "cell_type": "code",
   "execution_count": 40,
   "id": "daaff59d-4ee5-4cfc-a2e8-d18846b9015a",
   "metadata": {},
   "outputs": [
    {
     "data": {
      "text/plain": [
       "array([-1.,  0.,  1.])"
      ]
     },
     "execution_count": 40,
     "metadata": {},
     "output_type": "execute_result"
    }
   ],
   "source": [
    "x-2"
   ]
  },
  {
   "cell_type": "code",
   "execution_count": 42,
   "id": "2501e062-747d-426f-99ce-edbd12f09ae5",
   "metadata": {},
   "outputs": [
    {
     "data": {
      "text/plain": [
       "array([2., 4., 6.])"
      ]
     },
     "execution_count": 42,
     "metadata": {},
     "output_type": "execute_result"
    }
   ],
   "source": [
    "x*2"
   ]
  },
  {
   "cell_type": "code",
   "execution_count": 44,
   "id": "67fa8bf6-61cb-4fee-9bcc-ca23f7546e81",
   "metadata": {},
   "outputs": [
    {
     "data": {
      "text/plain": [
       "array([0.5, 1. , 1.5])"
      ]
     },
     "execution_count": 44,
     "metadata": {},
     "output_type": "execute_result"
    }
   ],
   "source": [
    "x/2"
   ]
  },
  {
   "cell_type": "markdown",
   "id": "1373f3ce-de42-452a-a0b1-63cc6898a596",
   "metadata": {},
   "source": [
    "---\n",
    "<span style=\"color:red; font-size:22px\">3. N차원 배열(tensor)</span>\n",
    "- 2차원 numpy 배열(행렬) 생성"
   ]
  },
  {
   "cell_type": "code",
   "execution_count": 48,
   "id": "4c19db2d-eff2-44f1-9c67-10ea41dc929e",
   "metadata": {},
   "outputs": [
    {
     "name": "stdout",
     "output_type": "stream",
     "text": [
      "[[1 2]\n",
      " [3 4]]\n"
     ]
    }
   ],
   "source": [
    "A = np.array([[1,2],[3,4]])\n",
    "print(A)"
   ]
  },
  {
   "cell_type": "code",
   "execution_count": 50,
   "id": "0599490b-3a20-4e1e-9b29-b8271de615b0",
   "metadata": {},
   "outputs": [
    {
     "data": {
      "text/plain": [
       "(2, 2)"
      ]
     },
     "execution_count": 50,
     "metadata": {},
     "output_type": "execute_result"
    }
   ],
   "source": [
    "A.shape"
   ]
  },
  {
   "cell_type": "code",
   "execution_count": 52,
   "id": "619d2132-eb85-4ec6-9941-c5e14dcf9914",
   "metadata": {},
   "outputs": [
    {
     "data": {
      "text/plain": [
       "dtype('int32')"
      ]
     },
     "execution_count": 52,
     "metadata": {},
     "output_type": "execute_result"
    }
   ],
   "source": [
    "A.dtype"
   ]
  },
  {
   "cell_type": "markdown",
   "id": "032ba377-9083-4e08-9b34-684616fd0cbf",
   "metadata": {},
   "source": [
    "- 원소별 연산"
   ]
  },
  {
   "cell_type": "code",
   "execution_count": 57,
   "id": "d926c5e8-feb8-45a5-897d-b17753bd5958",
   "metadata": {},
   "outputs": [],
   "source": [
    "A = np.array([[1,2],[3,4]])\n",
    "B = np.array([[3,1],[1,6]])"
   ]
  },
  {
   "cell_type": "code",
   "execution_count": 59,
   "id": "b6fab556-4d6d-4852-aa40-17fe15851e2e",
   "metadata": {},
   "outputs": [
    {
     "data": {
      "text/plain": [
       "array([[ 4,  3],\n",
       "       [ 4, 10]])"
      ]
     },
     "execution_count": 59,
     "metadata": {},
     "output_type": "execute_result"
    }
   ],
   "source": [
    "A+B"
   ]
  },
  {
   "cell_type": "code",
   "execution_count": 61,
   "id": "94dc8192-2371-47d7-81a9-3cdc0c409d2d",
   "metadata": {},
   "outputs": [
    {
     "data": {
      "text/plain": [
       "array([[-2,  1],\n",
       "       [ 2, -2]])"
      ]
     },
     "execution_count": 61,
     "metadata": {},
     "output_type": "execute_result"
    }
   ],
   "source": [
    "A-B"
   ]
  },
  {
   "cell_type": "code",
   "execution_count": 63,
   "id": "b7454ecb-e8fb-4cfc-ab0d-da1fb1dddba5",
   "metadata": {},
   "outputs": [
    {
     "data": {
      "text/plain": [
       "array([[ 3,  2],\n",
       "       [ 3, 24]])"
      ]
     },
     "execution_count": 63,
     "metadata": {},
     "output_type": "execute_result"
    }
   ],
   "source": [
    "A*B"
   ]
  },
  {
   "cell_type": "code",
   "execution_count": 65,
   "id": "27861f09-4794-4f66-a2c8-34382b93f8a6",
   "metadata": {},
   "outputs": [
    {
     "data": {
      "text/plain": [
       "array([[0.33333333, 2.        ],\n",
       "       [3.        , 0.66666667]])"
      ]
     },
     "execution_count": 65,
     "metadata": {},
     "output_type": "execute_result"
    }
   ],
   "source": [
    "A/B"
   ]
  },
  {
   "cell_type": "markdown",
   "id": "eb43e539-b138-4fc4-a535-511503484664",
   "metadata": {},
   "source": [
    "<span style=\"color:red; font-size:25px\">4. 원소접근</span>"
   ]
  },
  {
   "cell_type": "code",
   "execution_count": 114,
   "id": "9e3400ff-3965-478e-83fc-1faae5c6156d",
   "metadata": {},
   "outputs": [
    {
     "name": "stdout",
     "output_type": "stream",
     "text": [
      "[[10 11 12 13]\n",
      " [14 15 16 17]\n",
      " [18 19 20 21]]\n"
     ]
    }
   ],
   "source": [
    "X = np.arange(12).reshape((3,4))+10\n",
    "print(X)"
   ]
  },
  {
   "cell_type": "code",
   "execution_count": 118,
   "id": "cdcb55e4-4346-4be9-9c61-b0c6e91abf3b",
   "metadata": {},
   "outputs": [
    {
     "data": {
      "text/plain": [
       "array([10, 11, 12, 13])"
      ]
     },
     "execution_count": 118,
     "metadata": {},
     "output_type": "execute_result"
    }
   ],
   "source": [
    "X[0]"
   ]
  },
  {
   "cell_type": "code",
   "execution_count": 120,
   "id": "96b2008b-e44e-4689-a667-361cf76ff384",
   "metadata": {},
   "outputs": [
    {
     "data": {
      "text/plain": [
       "16"
      ]
     },
     "execution_count": 120,
     "metadata": {},
     "output_type": "execute_result"
    }
   ],
   "source": [
    "X[1,2] # 2행 3열"
   ]
  },
  {
   "cell_type": "code",
   "execution_count": 124,
   "id": "0d96de91-7920-4c12-8549-b64b2a25dcba",
   "metadata": {},
   "outputs": [
    {
     "data": {
      "text/plain": [
       "array([[16, 17],\n",
       "       [20, 21]])"
      ]
     },
     "execution_count": 124,
     "metadata": {},
     "output_type": "execute_result"
    }
   ],
   "source": [
    "X[1:3,2:4] # 1~2행, 2~3열 원소들(2 by 2 형태로 반환)"
   ]
  },
  {
   "cell_type": "code",
   "execution_count": 126,
   "id": "f18fdb2d-ab83-4cac-b2cf-0ab40db42156",
   "metadata": {},
   "outputs": [
    {
     "name": "stdout",
     "output_type": "stream",
     "text": [
      "[10 11 12 13]\n",
      "[14 15 16 17]\n",
      "[18 19 20 21]\n"
     ]
    }
   ],
   "source": [
    "for row in X:\n",
    "    print(row)"
   ]
  },
  {
   "cell_type": "code",
   "execution_count": 130,
   "id": "31511e26-8b24-43ae-b936-2d69a8139222",
   "metadata": {},
   "outputs": [
    {
     "name": "stdout",
     "output_type": "stream",
     "text": [
      "[10 11 12 13 14 15 16 17 18 19 20 21]\n"
     ]
    }
   ],
   "source": [
    "Y = X.flatten()\n",
    "print(Y)"
   ]
  },
  {
   "cell_type": "code",
   "execution_count": 134,
   "id": "3213f041-f8b2-45cf-a8da-8aaa537564f7",
   "metadata": {},
   "outputs": [
    {
     "name": "stdout",
     "output_type": "stream",
     "text": [
      "[11 14 17]\n"
     ]
    }
   ],
   "source": [
    "indices = [1, 4, 7]\n",
    "print(Y[indices])"
   ]
  },
  {
   "cell_type": "code",
   "execution_count": 136,
   "id": "e0525902-4185-4190-8ee4-d721f6e3eac5",
   "metadata": {},
   "outputs": [
    {
     "name": "stdout",
     "output_type": "stream",
     "text": [
      "[False False False False False False  True  True  True  True  True  True]\n"
     ]
    }
   ],
   "source": [
    "print(Y>15) # 각 원소값이 해당 조건에 만족하는지 참/거짓 판별"
   ]
  },
  {
   "cell_type": "code",
   "execution_count": 138,
   "id": "ab2b162e-19cb-4ca3-8560-d934c8233757",
   "metadata": {},
   "outputs": [
    {
     "name": "stdout",
     "output_type": "stream",
     "text": [
      "[16 17 18 19 20 21]\n"
     ]
    }
   ],
   "source": [
    "print(Y[Y>15]) # 위 조건에 해당하는 원소만 출력"
   ]
  },
  {
   "cell_type": "markdown",
   "id": "0b1cb329-ad57-4750-9226-6802f90f57b1",
   "metadata": {},
   "source": [
    "---\n",
    "<span style=\"color:red; font-size:25px\">5. 그래프그리기</span>"
   ]
  },
  {
   "cell_type": "code",
   "execution_count": 144,
   "id": "6fbee598-9368-4e20-bffe-811d48fa861b",
   "metadata": {},
   "outputs": [],
   "source": [
    "import numpy as np\n",
    "import matplotlib.pyplot as plt"
   ]
  },
  {
   "cell_type": "code",
   "execution_count": 146,
   "id": "5897e71d-dd2b-4ed5-bd54-94988a1b5a4d",
   "metadata": {},
   "outputs": [],
   "source": [
    "# plot은 해당 점들을 연속으로 찍어주면서 표현\n",
    "x = np.arange(0,6,0.1) # [0, 0.1, 0.2, ... , 5.9]\n",
    "y1 = np.sin(x)\n",
    "y2 = np.cos(x)"
   ]
  },
  {
   "cell_type": "code",
   "execution_count": 150,
   "id": "68b6f679-e8d5-4a63-a538-0b0d100c9684",
   "metadata": {},
   "outputs": [
    {
     "data": {
      "image/png": "[encoded data removed]",
      "text/plain": [
       "<Figure size 640x480 with 1 Axes>"
      ]
     },
     "metadata": {},
     "output_type": "display_data"
    }
   ],
   "source": [
    "plt.plot(x, y1, label='sin') #plt.plot(x요소들(점찍는 방식), y 요소들(그래프), 라벨명)\n",
    "plt.plot(x, y2, linestyle='--', label='cos') \n",
    "plt.xlabel('x') # x축 이름\n",
    "plt.ylabel('y') # y축 이름\n",
    "plt.title('sin & cos') # 제목\n",
    "plt.legend() # 범례\n",
    "plt.show()"
   ]
  },
  {
   "cell_type": "markdown",
   "id": "50f7d4ee-cdc7-4ab0-bc7e-1e1da618c0d0",
   "metadata": {},
   "source": [
    "---\n",
    "## Assignment 1\n",
    "$$f_1(x) = \\frac{1}{1 + exp(-x)}, \\quad f_2(x) = \\frac{e^x - e^{-x}}{e^x + e^{-x}} \\quad for -7 \\le x \\le 7$$\n"
   ]
  },
  {
   "cell_type": "code",
   "execution_count": 172,
   "id": "5218a192-fa6d-44ea-bb88-6ba4f6adf780",
   "metadata": {},
   "outputs": [],
   "source": [
    "import numpy as np\n",
    "import matplotlib.pyplot as plt"
   ]
  },
  {
   "cell_type": "code",
   "execution_count": 176,
   "id": "77a95127-1bb8-4302-a444-dd984574f64b",
   "metadata": {},
   "outputs": [],
   "source": [
    "x = np.arange(-7, 7, 0.1)\n",
    "a = np.exp(x)\n",
    "b = np.exp(-x)\n",
    "y1 = (1/(1+b))\n",
    "y2 = ((a - b)/(a + b))"
   ]
  },
  {
   "cell_type": "code",
   "execution_count": 178,
   "id": "a5cbe09d-f097-429c-81ea-6a27fcdc7d7b",
   "metadata": {},
   "outputs": [
    {
     "data": {
      "image/png": "[encoded data removed]",
      "text/plain": [
       "<Figure size 640x480 with 1 Axes>"
      ]
     },
     "metadata": {},
     "output_type": "display_data"
    }
   ],
   "source": [
    "plt.plot(x, y1, label = 'Function 1')\n",
    "plt.plot(x, y2, linestyle = '--', label = 'Function 2')\n",
    "plt.xlabel('x')\n",
    "plt.ylabel('f(x)')\n",
    "plt.title('Assignment1')\n",
    "plt.legend()\n",
    "plt.show()"
   ]
  },
  {
   "cell_type": "code",
   "execution_count": null,
   "id": "3e008479-c3a0-402f-8891-4516bc72abc1",
   "metadata": {},
   "outputs": [],
   "source": []
  }
 ],
 "metadata": {
  "kernelspec": {
   "display_name": "Python [conda env:base] *",
   "language": "python",
   "name": "conda-base-py"
  },
  "language_info": {
   "codemirror_mode": {
    "name": "ipython",
    "version": 3
   },
   "file_extension": ".py",
   "mimetype": "text/x-python",
   "name": "python",
   "nbconvert_exporter": "python",
   "pygments_lexer": "ipython3",
   "version": "3.12.7"
  }
 },
 "nbformat": 4,
 "nbformat_minor": 5
}
