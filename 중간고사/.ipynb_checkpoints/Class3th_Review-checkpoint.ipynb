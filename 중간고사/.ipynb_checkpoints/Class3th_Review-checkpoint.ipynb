{
 "cells": [
  {
   "cell_type": "markdown",
   "id": "bffee8cc-8992-4bba-89a9-11efa79b2fea",
   "metadata": {},
   "source": [
    "<span style = \"color:red; font-size:25px\">3. 퍼셉트론(Perceptron)</span>"
   ]
  },
  {
   "cell_type": "code",
   "execution_count": 2,
   "id": "3cde50fd-ff07-4a5c-a466-b8044680d902",
   "metadata": {},
   "outputs": [],
   "source": [
    "import numpy as np"
   ]
  },
  {
   "cell_type": "markdown",
   "id": "69b36036-d269-4ee9-aa04-802f7fb19169",
   "metadata": {},
   "source": [
    "1. Numpy를 이용한 퍼셉트론 class 구현"
   ]
  },
  {
   "cell_type": "code",
   "execution_count": 10,
   "id": "3f67dd3f-473f-4f53-8bdd-2b82fadb13ef",
   "metadata": {},
   "outputs": [],
   "source": [
    "class perceptron:\n",
    "    def __init__(self, w):\n",
    "        self.w = w \n",
    "\n",
    "    def output(self, x):\n",
    "        y_tmp = np.dot(self.w, np.append([1],x))\n",
    "        return 1.0*(y_tmp>0)"
   ]
  },
  {
   "cell_type": "markdown",
   "id": "edc36721-f5bd-4ec0-8256-d9f1f3719100",
   "metadata": {},
   "source": [
    "2. 퍼셉트론을 이용한 단순 논리회로 구현\n",
    "   - AND Gate"
   ]
  },
  {
   "cell_type": "code",
   "execution_count": 16,
   "id": "155e79a6-8012-439b-b686-89045ef239d2",
   "metadata": {},
   "outputs": [
    {
     "name": "stdout",
     "output_type": "stream",
     "text": [
      "[0, 0] -> 0.0\n",
      "[1, 0] -> 0.0\n",
      "[0, 1] -> 0.0\n",
      "[1, 1] -> 1.0\n"
     ]
    }
   ],
   "source": [
    "w = np.array([-1.2, 1, 1])\n",
    "and_gate = perceptron(w)\n",
    "x_list = [[0,0],[1,0],[0,1],[1,1]]\n",
    "\n",
    "for x in x_list:\n",
    "    print(x, '->', and_gate.output(x))"
   ]
  },
  {
   "cell_type": "code",
   "execution_count": 18,
   "id": "73f888ed-0eb9-45ca-b9ce-1b8b8579ce52",
   "metadata": {},
   "outputs": [
    {
     "name": "stdout",
     "output_type": "stream",
     "text": [
      "[0, 0] -> 0.0\n",
      "[1, 0] -> 1.0\n",
      "[0, 1] -> 1.0\n",
      "[1, 1] -> 1.0\n"
     ]
    }
   ],
   "source": [
    "w = np.array([-0.5, 1, 1])\n",
    "or_gate = perceptron(w)\n",
    "x_list = [[0,0],[1,0],[0,1],[1,1]]\n",
    "\n",
    "for x in x_list:\n",
    "    print(x, '->', or_gate.output(x))"
   ]
  },
  {
   "cell_type": "code",
   "execution_count": null,
   "id": "0a915c08-1ebd-4cad-98a3-7a84f701af23",
   "metadata": {},
   "outputs": [],
   "source": [
    "w = np.array([-1.2, 1, 1])\n",
    "and_gate = perceptron(-w)\n",
    "x_list = [[0,0],[1,0],[0,1],[1,1]]\n",
    "\n",
    "for x in x_list:\n",
    "    print(x, '->', and_gate.output(x))"
   ]
  }
 ],
 "metadata": {
  "kernelspec": {
   "display_name": "Python [conda env:base] *",
   "language": "python",
   "name": "conda-base-py"
  },
  "language_info": {
   "codemirror_mode": {
    "name": "ipython",
    "version": 3
   },
   "file_extension": ".py",
   "mimetype": "text/x-python",
   "name": "python",
   "nbconvert_exporter": "python",
   "pygments_lexer": "ipython3",
   "version": "3.12.7"
  }
 },
 "nbformat": 4,
 "nbformat_minor": 5
}
