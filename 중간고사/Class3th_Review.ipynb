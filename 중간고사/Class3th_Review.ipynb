{
 "cells": [
  {
   "cell_type": "markdown",
   "id": "bffee8cc-8992-4bba-89a9-11efa79b2fea",
   "metadata": {},
   "source": [
    "<span style = \"color:red; font-size:25px\">3. 퍼셉트론(Perceptron)</span>"
   ]
  },
  {
   "cell_type": "code",
   "execution_count": 2,
   "id": "3cde50fd-ff07-4a5c-a466-b8044680d902",
   "metadata": {},
   "outputs": [],
   "source": [
    "import numpy as np"
   ]
  },
  {
   "cell_type": "markdown",
   "id": "69b36036-d269-4ee9-aa04-802f7fb19169",
   "metadata": {},
   "source": [
    "1. Numpy를 이용한 퍼셉트론 class 구현"
   ]
  },
  {
   "cell_type": "code",
   "execution_count": 10,
   "id": "3f67dd3f-473f-4f53-8bdd-2b82fadb13ef",
   "metadata": {},
   "outputs": [],
   "source": [
    "class perceptron:\n",
    "    def __init__(self, w):\n",
    "        self.w = w \n",
    "\n",
    "    def output(self, x):\n",
    "        y_tmp = np.dot(self.w, np.append([1],x))\n",
    "        return 1.0*(y_tmp>0)"
   ]
  },
  {
   "cell_type": "markdown",
   "id": "edc36721-f5bd-4ec0-8256-d9f1f3719100",
   "metadata": {},
   "source": [
    "2. 퍼셉트론을 이용한 단순 논리회로 구현\n",
    "   - AND Gate"
   ]
  },
  {
   "cell_type": "code",
   "execution_count": 16,
   "id": "155e79a6-8012-439b-b686-89045ef239d2",
   "metadata": {},
   "outputs": [
    {
     "name": "stdout",
     "output_type": "stream",
     "text": [
      "[0, 0] -> 0.0\n",
      "[1, 0] -> 0.0\n",
      "[0, 1] -> 0.0\n",
      "[1, 1] -> 1.0\n"
     ]
    }
   ],
   "source": [
    "w = np.array([-1.2, 1, 1])\n",
    "and_gate = perceptron(w)\n",
    "x_list = [[0,0],[1,0],[0,1],[1,1]]\n",
    "\n",
    "for x in x_list:\n",
    "    print(x, '->', and_gate.output(x))"
   ]
  },
  {
   "cell_type": "code",
   "execution_count": 18,
   "id": "73f888ed-0eb9-45ca-b9ce-1b8b8579ce52",
   "metadata": {},
   "outputs": [
    {
     "name": "stdout",
     "output_type": "stream",
     "text": [
      "[0, 0] -> 0.0\n",
      "[1, 0] -> 1.0\n",
      "[0, 1] -> 1.0\n",
      "[1, 1] -> 1.0\n"
     ]
    }
   ],
   "source": [
    "w = np.array([-0.5, 1, 1])\n",
    "or_gate = perceptron(w)\n",
    "x_list = [[0,0],[1,0],[0,1],[1,1]]\n",
    "\n",
    "for x in x_list:\n",
    "    print(x, '->', or_gate.output(x))"
   ]
  },
  {
   "cell_type": "code",
   "execution_count": 20,
   "id": "0a915c08-1ebd-4cad-98a3-7a84f701af23",
   "metadata": {},
   "outputs": [
    {
     "name": "stdout",
     "output_type": "stream",
     "text": [
      "[0, 0] -> 1.0\n",
      "[1, 0] -> 1.0\n",
      "[0, 1] -> 1.0\n",
      "[1, 1] -> 0.0\n"
     ]
    }
   ],
   "source": [
    "w = np.array([-1.2, 1, 1])\n",
    "nand_gate = perceptron(-w)\n",
    "x_list = [[0,0],[1,0],[0,1],[1,1]]\n",
    "\n",
    "for x in x_list:\n",
    "    print(x, '->', nand_gate.output(x))"
   ]
  },
  {
   "cell_type": "code",
   "execution_count": 22,
   "id": "24cf4af0-120d-42cc-939e-11ed1d7a23f3",
   "metadata": {},
   "outputs": [
    {
     "name": "stdout",
     "output_type": "stream",
     "text": [
      "[0, 0] -> 1.0\n",
      "[1, 0] -> 0.0\n",
      "[0, 1] -> 0.0\n",
      "[1, 1] -> 0.0\n"
     ]
    }
   ],
   "source": [
    "w = np.array([-0.5, 1, 1])\n",
    "nor_gate = perceptron(-w)\n",
    "x_list = [[0,0],[1,0],[0,1],[1,1]]\n",
    "\n",
    "for x in x_list:\n",
    "    print(x, '->', nor_gate.output(x))"
   ]
  },
  {
   "cell_type": "code",
   "execution_count": 24,
   "id": "2094c3a5-11d1-4bef-a119-1acdbeaa62b8",
   "metadata": {},
   "outputs": [
    {
     "name": "stdout",
     "output_type": "stream",
     "text": [
      "[0, 0] -> 0.0\n",
      "[1, 0] -> 1.0\n",
      "[0, 1] -> 1.0\n",
      "[1, 1] -> 0.0\n"
     ]
    }
   ],
   "source": [
    "for x in x_list:\n",
    "    xor_gate = and_gate.output([nand_gate.output(x), or_gate.output(x)])\n",
    "    print(x, '->', xor_gate)"
   ]
  },
  {
   "cell_type": "markdown",
   "id": "67415c44-70aa-480d-a429-977e57da505d",
   "metadata": {},
   "source": [
    "---\n",
    "<span style = \"color:red; font-size:25px\">Assignment3</span>"
   ]
  },
  {
   "cell_type": "code",
   "execution_count": 32,
   "id": "87041c1d-b276-4268-a916-4c32a6437501",
   "metadata": {},
   "outputs": [],
   "source": [
    "# def SGD(gate, x_list, t):"
   ]
  },
  {
   "cell_type": "code",
   "execution_count": 34,
   "id": "5f4e79b4-5e92-496d-bbb6-71e0efaaa209",
   "metadata": {},
   "outputs": [],
   "source": [
    "x_list = [[0,0],[0,1], [1,0], [1,1]]\n",
    "t_and = [-1, -1, -1, 1]\n",
    "t_or = [-1, 1, 1, 1]\n",
    "t_nand = [1, 1, 1, -1]"
   ]
  },
  {
   "cell_type": "code",
   "execution_count": 36,
   "id": "e340f58e-ac4a-4f7f-98d2-4694427fdc17",
   "metadata": {},
   "outputs": [],
   "source": [
    "w_init = [1, 1, 1]\n",
    "and_gate = perceptron(w_init)\n",
    "# SGD(and_gate, x_list, t_and)\n",
    "\n",
    "or_gate = perceptron(w_init)\n",
    "# SGD(or_gate, x_list, t_or)\n",
    "   \n",
    "nand_gate = perceptron(w_init)\n",
    "# SGD(nand_gate, x_list, t_nand)\n"
   ]
  },
  {
   "cell_type": "code",
   "execution_count": 38,
   "id": "fe1f420a-03f6-4c27-9c95-9c7bf45ab7de",
   "metadata": {},
   "outputs": [
    {
     "name": "stdout",
     "output_type": "stream",
     "text": [
      "=== AND Gate ===\n",
      "[0, 0] => 1.0\n",
      "[0, 1] => 1.0\n",
      "[1, 0] => 1.0\n",
      "[1, 1] => 1.0\n",
      "=== OR Gate ===\n",
      "[0, 0] => 1.0\n",
      "[0, 1] => 1.0\n",
      "[1, 0] => 1.0\n",
      "[1, 1] => 1.0\n",
      "=== NAND Gate ===\n",
      "[0, 0] => 1.0\n",
      "[0, 1] => 1.0\n",
      "[1, 0] => 1.0\n",
      "[1, 1] => 1.0\n"
     ]
    }
   ],
   "source": [
    "print('=== AND Gate ===')\n",
    "for x in x_list:\n",
    "    print(x, '=>', and_gate.output(x))\n",
    "\n",
    "print('=== OR Gate ===')\n",
    "for x in x_list:\n",
    "    print(x, '=>', or_gate.output(x))\n",
    "\n",
    "print('=== NAND Gate ===')\n",
    "for x in x_list:\n",
    "    print(x, '=>', nand_gate.output(x))"
   ]
  },
  {
   "cell_type": "code",
   "execution_count": null,
   "id": "a9277671-c38b-4005-88ee-d97f40b2fce2",
   "metadata": {},
   "outputs": [],
   "source": []
  }
 ],
 "metadata": {
  "kernelspec": {
   "display_name": "Python [conda env:base] *",
   "language": "python",
   "name": "conda-base-py"
  },
  "language_info": {
   "codemirror_mode": {
    "name": "ipython",
    "version": 3
   },
   "file_extension": ".py",
   "mimetype": "text/x-python",
   "name": "python",
   "nbconvert_exporter": "python",
   "pygments_lexer": "ipython3",
   "version": "3.12.7"
  }
 },
 "nbformat": 4,
 "nbformat_minor": 5
}
