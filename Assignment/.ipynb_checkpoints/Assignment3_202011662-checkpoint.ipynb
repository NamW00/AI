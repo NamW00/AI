{
 "cells": [
  {
   "cell_type": "code",
   "execution_count": 64,
   "id": "15e69db0",
   "metadata": {},
   "outputs": [],
   "source": [
    "import numpy as np"
   ]
  },
  {
   "cell_type": "code",
   "execution_count": 66,
   "id": "f4de6d27",
   "metadata": {},
   "outputs": [],
   "source": [
    "class perceptron:\n",
    "    def __init__(self, w):\n",
    "        self.w = w\n",
    "        \n",
    "    def output(self, x):\n",
    "        y_tmp = np.dot(self.w, np.append([1], x))\n",
    "        return 1.0*(y_tmp>0)"
   ]
  },
  {
   "cell_type": "code",
   "execution_count": 68,
   "id": "41fd4607",
   "metadata": {},
   "outputs": [],
   "source": [
    "def SGD(gate, x_list, t):\n",
    "    eta = 0.5\n",
    "    while True:\n",
    "        idx = [] # 오류 값의 인덱스 번호들만 idx에 저장\n",
    "        for i, x in enumerate(x_list): # \n",
    "           if (gate.output(x)!=(t[i]>0)):\n",
    "               idx += [i] # idx.append(i)\n",
    "               \n",
    "        if len(idx) == 0:\n",
    "            break\n",
    "\n",
    "        gate.w = gate.w + eta*np.array([1]+x_list[idx[0]])*t[idx[0]] # [1]은 x벡터르 [1, x1, x2]로 맞춰주기 위해서 추가해준 것임\n",
    "        "
   ]
  },
  {
   "cell_type": "code",
   "execution_count": 70,
   "id": "08d23154",
   "metadata": {},
   "outputs": [],
   "source": [
    "x_list = [[0,0], [0,1], [1, 0], [1,1]]\n",
    "t_and = [-1, -1, -1, 1]\n",
    "t_or = [-1, 1, 1, 1]\n",
    "t_nand = [1, 1, 1, -1]"
   ]
  },
  {
   "cell_type": "code",
   "execution_count": 72,
   "id": "d02f7c2a",
   "metadata": {},
   "outputs": [],
   "source": [
    "w_init = [1, 1, 1]\n",
    "and_gate = perceptron(w_init)\n",
    "SGD(and_gate, x_list, t_and)\n",
    "\n",
    "or_gate = perceptron(w_init)\n",
    "SGD(or_gate, x_list, t_or)\n",
    "\n",
    "nand_gate = perceptron(w_init)\n",
    "SGD(nand_gate, x_list, t_nand)"
   ]
  },
  {
   "cell_type": "code",
   "execution_count": 74,
   "id": "dce36c44",
   "metadata": {},
   "outputs": [
    {
     "name": "stdout",
     "output_type": "stream",
     "text": [
      "=== AND gate ===\n",
      "[0, 0] => 0.0\n",
      "[0, 1] => 0.0\n",
      "[1, 0] => 0.0\n",
      "[1, 1] => 1.0\n",
      "=== OR gate ===\n",
      "[0, 0] => 0.0\n",
      "[0, 1] => 1.0\n",
      "[1, 0] => 1.0\n",
      "[1, 1] => 1.0\n",
      "=== NAND gate ===\n",
      "[0, 0] => 1.0\n",
      "[0, 1] => 1.0\n",
      "[1, 0] => 1.0\n",
      "[1, 1] => 0.0\n"
     ]
    }
   ],
   "source": [
    "print('=== AND gate ===')\n",
    "for x in x_list:\n",
    "    print(x, '=>', and_gate.output(x))\n",
    "\n",
    "print('=== OR gate ===')\n",
    "for x in x_list:\n",
    "    print(x, '=>', or_gate.output(x))\n",
    "\n",
    "print('=== NAND gate ===')\n",
    "for x in x_list:\n",
    "    print(x, '=>', nand_gate.output(x))    "
   ]
  }
 ],
 "metadata": {
  "kernelspec": {
   "display_name": "Python [conda env:base] *",
   "language": "python",
   "name": "conda-base-py"
  },
  "language_info": {
   "codemirror_mode": {
    "name": "ipython",
    "version": 3
   },
   "file_extension": ".py",
   "mimetype": "text/x-python",
   "name": "python",
   "nbconvert_exporter": "python",
   "pygments_lexer": "ipython3",
   "version": "3.12.7"
  }
 },
 "nbformat": 4,
 "nbformat_minor": 5
}
