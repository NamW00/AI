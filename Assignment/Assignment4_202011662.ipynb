{
 "cells": [
  {
   "cell_type": "code",
   "execution_count": 32,
   "id": "61039569-5cc5-417a-9439-2c77994be08f",
   "metadata": {},
   "outputs": [],
   "source": [
    "import numpy as np"
   ]
  },
  {
   "cell_type": "code",
   "execution_count": 34,
   "id": "20b7575b-6629-410e-8d31-c4d63df63573",
   "metadata": {},
   "outputs": [],
   "source": [
    "def sigmoid_func(x):\n",
    "    return 1/(1+np.exp(-x))"
   ]
  },
  {
   "cell_type": "code",
   "execution_count": 36,
   "id": "fc7aee89-9dc5-42f4-903c-af5ef260150a",
   "metadata": {},
   "outputs": [],
   "source": [
    "def init_network():\n",
    "    network = {}\n",
    "    network['W1'] = np.array([[0.1,0.2,0.3],[0.1,0.3,0.5],[0.2,0.4,0.6]])\n",
    "    network['W2'] = np.array([[0.1,0.1,0.2,0.3],[0.2,0.4,0.5,0.6]])\n",
    "    network['W3'] = np.array([[0.1,0.1,0.2],[0.2,0.3,0.4]])\n",
    "    return network"
   ]
  },
  {
   "cell_type": "code",
   "execution_count": 38,
   "id": "ba21b2ac-3adb-4127-a09b-cbad1149fbfb",
   "metadata": {},
   "outputs": [],
   "source": [
    "def forward(network, x):\n",
    "    W1, W2, W3 = network['W1'], network['W2'], network['W3']\n",
    "    z1 = sigmoid_func(np.dot(W1,np.append([1],x)))\n",
    "    z2 = sigmoid_func(np.dot(W2,np.append([1],z1)))\n",
    "    y = np.dot(W3,np.append([1],z2))\n",
    "    return y"
   ]
  },
  {
   "cell_type": "code",
   "execution_count": 40,
   "id": "dc2922b5-13f0-46ed-a11a-75fd002f45fd",
   "metadata": {},
   "outputs": [
    {
     "name": "stdout",
     "output_type": "stream",
     "text": [
      "[0.31606212 0.69450523]\n"
     ]
    }
   ],
   "source": [
    "network = init_network()\n",
    "x = np.array([1.0,0.5])\n",
    "y = forward(network, x)\n",
    "print(y)"
   ]
  },
  {
   "cell_type": "code",
   "execution_count": null,
   "id": "64063d40-fc81-41c1-ab53-070768e78767",
   "metadata": {},
   "outputs": [],
   "source": []
  }
 ],
 "metadata": {
  "kernelspec": {
   "display_name": "Python [conda env:base] *",
   "language": "python",
   "name": "conda-base-py"
  },
  "language_info": {
   "codemirror_mode": {
    "name": "ipython",
    "version": 3
   },
   "file_extension": ".py",
   "mimetype": "text/x-python",
   "name": "python",
   "nbconvert_exporter": "python",
   "pygments_lexer": "ipython3",
   "version": "3.12.7"
  }
 },
 "nbformat": 4,
 "nbformat_minor": 5
}
