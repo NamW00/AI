{
 "cells": [
  {
   "cell_type": "code",
   "execution_count": 12,
   "id": "0796ee15-a7ea-4cc9-8d16-5246d7c41c68",
   "metadata": {},
   "outputs": [],
   "source": [
    "import numpy as np"
   ]
  },
  {
   "cell_type": "code",
   "execution_count": 14,
   "id": "2771c4ea-00ea-4af6-874c-8a910c0c0a69",
   "metadata": {},
   "outputs": [],
   "source": [
    "def numerical_gradient(f,x):\n",
    "    h = 10**(-4)\n",
    "    grad = np.zeros_like(x)\n",
    "\n",
    "    for idx in range(x.size):\n",
    "        tmp = x[idx]\n",
    "        x[idx] = tmp+h\n",
    "        fxh1= f(x)\n",
    "\n",
    "        x[idx] = tmp-h\n",
    "        fxh2= f(x)\n",
    "\n",
    "        grad[idx] = (fxh1 - fxh2)/(2*h)\n",
    "        x[idx]= tmp\n",
    "    return grad"
   ]
  },
  {
   "cell_type": "code",
   "execution_count": 22,
   "id": "07c089ad-f886-4a89-b4c4-5c34b5f96894",
   "metadata": {},
   "outputs": [],
   "source": [
    "def gradient_descent(f, init_x, eta=0.01, step_num = 1000):\n",
    "    #이 부분을 구현해주면 된다\n",
    "    # f : 최소값을 찾으려는 함수\n",
    "    # init_x : gradient descent 시작점\n",
    "    # eta : 학습율(learning rate), 0.01)\n",
    "    x = init_x\n",
    "    for  i in range(step_num):\n",
    "        x = x - eta * numerical_gradient(f,x)\n",
    "    return x"
   ]
  },
  {
   "cell_type": "code",
   "execution_count": 24,
   "id": "1fb5c93b-de26-422b-806e-5be4debe35fc",
   "metadata": {},
   "outputs": [],
   "source": [
    "def func_test(x):\n",
    "    return np.sum(x**2, axis=0) -2*np.sum(x,axis=0)+2"
   ]
  },
  {
   "cell_type": "code",
   "execution_count": 26,
   "id": "56df572b-3cfc-4772-a5a8-7232df1a35f2",
   "metadata": {},
   "outputs": [
    {
     "name": "stdout",
     "output_type": "stream",
     "text": [
      "[1. 1.]\n"
     ]
    }
   ],
   "source": [
    "init_x = np.array([0.0, 0.0])\n",
    "x_opt = gradient_descent(func_test, init_x)\n",
    "print(x_opt)"
   ]
  },
  {
   "cell_type": "code",
   "execution_count": null,
   "id": "719fe356-823c-4c51-a30f-2a286952df2a",
   "metadata": {},
   "outputs": [],
   "source": []
  }
 ],
 "metadata": {
  "kernelspec": {
   "display_name": "Python [conda env:base] *",
   "language": "python",
   "name": "conda-base-py"
  },
  "language_info": {
   "codemirror_mode": {
    "name": "ipython",
    "version": 3
   },
   "file_extension": ".py",
   "mimetype": "text/x-python",
   "name": "python",
   "nbconvert_exporter": "python",
   "pygments_lexer": "ipython3",
   "version": "3.12.7"
  }
 },
 "nbformat": 4,
 "nbformat_minor": 5
}
