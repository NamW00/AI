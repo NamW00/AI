{
 "cells": [
  {
   "cell_type": "code",
   "execution_count": 6,
   "id": "f360f1b3-c6d5-4fde-a9c2-d247f762c97b",
   "metadata": {},
   "outputs": [],
   "source": [
    "import numpy as np"
   ]
  },
  {
   "cell_type": "code",
   "execution_count": 8,
   "id": "65948e36-2581-4435-9204-e3e7ece87868",
   "metadata": {},
   "outputs": [],
   "source": [
    "def cross_entropy_error(y,t):\n",
    "    if y.ndim == 1:\n",
    "        t = t.reshape(1, t.size)\n",
    "        y = y.reshape(1, y.size)\n",
    "    delta = 10**(-7)\n",
    "    batch_size = y.shape[0]\n",
    "    return -np.sum(t*np.log(y+delta))/batch_size"
   ]
  },
  {
   "cell_type": "code",
   "execution_count": 14,
   "id": "fbcb838c-8d01-47a6-957e-aa75242884e6",
   "metadata": {},
   "outputs": [
    {
     "name": "stdout",
     "output_type": "stream",
     "text": [
      "(3,)\n",
      "1\n",
      "3\n",
      "[[1 3 4]]\n"
     ]
    },
    {
     "data": {
      "text/plain": [
       "(1, 3)"
      ]
     },
     "execution_count": 14,
     "metadata": {},
     "output_type": "execute_result"
    }
   ],
   "source": [
    "a = np.array([1,3,4]) # (3,)\n",
    "print(a.shape) # 1\n",
    "print(a.ndim) # 3  -> 1by3 matrix형태로 생성\n",
    "print(a.size) #이중행렬이 된다\n",
    "a = a.reshape(1,a.size)\n",
    "print(a)\n",
    "a.shape"
   ]
  },
  {
   "cell_type": "code",
   "execution_count": 16,
   "id": "15bdfaa5-9758-4bcc-baea-ad883490ac21",
   "metadata": {},
   "outputs": [
    {
     "name": "stdout",
     "output_type": "stream",
     "text": [
      "0.569716954094202\n"
     ]
    },
    {
     "data": {
      "text/plain": [
       "2"
      ]
     },
     "execution_count": 16,
     "metadata": {},
     "output_type": "execute_result"
    }
   ],
   "source": [
    "t = np.array([[0,0,1],[1,0,0]])\n",
    "y = np.array([[0.1,0.1,0.8],[0.4,0.3,0.3]])\n",
    "print(cross_entropy_error(y,t))\n",
    "y.shape[0]\n"
   ]
  },
  {
   "cell_type": "code",
   "execution_count": 18,
   "id": "4ff1633d-d135-4ea1-acea-c7590f8afd7f",
   "metadata": {},
   "outputs": [
    {
     "name": "stdout",
     "output_type": "stream",
     "text": [
      "0.569716954094202\n"
     ]
    }
   ],
   "source": [
    "t = np.array([[0,0,1],[1,0,0]])\n",
    "print(cross_entropy_error(y,t))\n"
   ]
  },
  {
   "cell_type": "code",
   "execution_count": null,
   "id": "3919981a-0971-476a-8688-b6526734cc24",
   "metadata": {},
   "outputs": [],
   "source": []
  }
 ],
 "metadata": {
  "kernelspec": {
   "display_name": "Python [conda env:base] *",
   "language": "python",
   "name": "conda-base-py"
  },
  "language_info": {
   "codemirror_mode": {
    "name": "ipython",
    "version": 3
   },
   "file_extension": ".py",
   "mimetype": "text/x-python",
   "name": "python",
   "nbconvert_exporter": "python",
   "pygments_lexer": "ipython3",
   "version": "3.12.7"
  }
 },
 "nbformat": 4,
 "nbformat_minor": 5
}
