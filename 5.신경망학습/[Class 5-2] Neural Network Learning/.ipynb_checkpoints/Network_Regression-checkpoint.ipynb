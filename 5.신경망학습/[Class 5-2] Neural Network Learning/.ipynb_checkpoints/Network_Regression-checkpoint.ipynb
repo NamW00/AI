{
 "cells": [
  {
   "cell_type": "code",
   "execution_count": null,
   "metadata": {},
   "outputs": [],
   "source": [
    "import numpy as np\n",
    "from functions import *\n",
    "from numerical_gradient import numerical_gradient_2d\n",
    "import matplotlib.pylab as plt"
   ]
  },
  {
   "cell_type": "code",
   "execution_count": null,
   "metadata": {},
   "outputs": [],
   "source": [
    "class Net_Reg:\n",
    "\n",
    "    def __init__(self, input_size, h1_size, h2_size, output_size):\n",
    "        # 가중치 초기화\n",
    "        self.params = {}        \n",
    "        self.params['W1'] = np.sqrt(1/2)* np.random.randn(input_size+1, h1_size)\n",
    "        self.params['W2'] = np.sqrt(1/2) * np.random.randn(h1_size+1, h2_size)\n",
    "        self.params['W3'] = np.sqrt(1/2) * np.random.randn(h2_size+1, output_size)\n",
    "\n",
    "\n",
    "    def predict(self, x):\n",
    "        W1, W2, W3 = self.params['W1'], self.params['W2'], self.params['W3']\n",
    "        \n",
    "        b = [1] if x.ndim==1 else np.ones((x.shape[0], 1))\n",
    "        \n",
    "        x = np.append(b, x, axis=x.ndim-1)\n",
    "        a1 = np.dot(x, W1)\n",
    "        z1 = np.append(b, sigmoid(a1), axis=x.ndim-1)\n",
    "        a2 = np.dot(z1, W2)\n",
    "        z2 = np.append(b, sigmoid(a2), axis=x.ndim-1)\n",
    "        y = np.dot(z2, W3)\n",
    "        \n",
    "        return y\n",
    "        \n",
    "    # x : 입력 데이터, t : 정답 레이블\n",
    "    def loss(self, x, t):\n",
    "        y = self.predict(x)        \n",
    "        return mean_squared_error(y, t)\n",
    "        \n",
    "    # x : 입력 데이터, t : 정답 레이블\n",
    "    def numerical_gradient(self, x, t):\n",
    "        loss_W = lambda W: self.loss(x, t)\n",
    "        \n",
    "        grads = {}\n",
    "        grads['W1'] = numerical_gradient_2d(loss_W, self.params['W1'])\n",
    "        grads['W2'] = numerical_gradient_2d(loss_W, self.params['W2'])\n",
    "        grads['W3'] = numerical_gradient_2d(loss_W, self.params['W3'])\n",
    "        \n",
    "        return grads  "
   ]
  },
  {
   "cell_type": "code",
   "execution_count": null,
   "metadata": {},
   "outputs": [],
   "source": [
    "net = Net_Reg(4, 2, 2, 3)\n",
    "\n",
    "x = np.arange(12).reshape((3, 4))\n",
    "print(\"Minibatch: \\n\", x)\n",
    "t_num = [0, 2, 1]\n",
    "t = np.eye(3)[t_num]\n",
    "print(\"Target: \\n\", t)\n",
    "print(\"Parameters: \\n\", net.params)\n",
    "print(\"y: \\n\", net.predict(x))\n",
    "print(\"E(W): \\n\", net.loss(x, t))\n",
    "print(\"Gradient: \\n\", net.numerical_gradient(x,t))"
   ]
  },
  {
   "cell_type": "code",
   "execution_count": null,
   "metadata": {},
   "outputs": [],
   "source": [
    "f_unknown = lambda x: np.sum(x**2, axis=0)-2*np.sum(x, axis=0)+2\n",
    "\n",
    "scope = np.arange(-1, 3, 0.25)\n",
    "X, Y = np.meshgrid(scope, scope)\n",
    "Z = f_unknown(np.array([X, Y]))\n",
    "\n",
    "fig = plt.figure()\n",
    "ax = fig.add_subplot(projection='3d')             # 3d axes instance\n",
    "surf= ax.plot_surface(X, Y, Z,          # data values (2D Arryas)\n",
    "                       rstride=1,                   # row step size\n",
    "                       cstride=1,                  # column step size\n",
    "                       linewidth=1,               # wireframe line width\n",
    "                       antialiased=True)\n",
    "plt.show()"
   ]
  },
  {
   "cell_type": "code",
   "execution_count": null,
   "metadata": {},
   "outputs": [],
   "source": [
    "num_samples = 200\n",
    "x_train = 4*np.random.rand(2, num_samples)-1\n",
    "t_train = f_unknown(x_train) \n",
    "\n",
    "fig = plt.figure()\n",
    "ax = fig.add_subplot(projection='3d')             # 3d axes instance\n",
    "surf = ax.scatter(x_train[0], x_train[1], t_train)\n",
    "plt.show()"
   ]
  },
  {
   "cell_type": "code",
   "execution_count": null,
   "metadata": {},
   "outputs": [],
   "source": [
    "net_reg = Net_Reg(2, 10, 10, 1)\n",
    "\n",
    "iter_n = 10**4\n",
    "bch_size = 10\n",
    "x_train = np.transpose(x_train)\n",
    "eta = 0.001\n",
    "\n",
    "for i in range(iter_n):\n",
    "    idx = np.random.choice(num_samples, bch_size)\n",
    "    grds = net_reg.numerical_gradient(x_train[idx], t_train[idx])\n",
    "    for key in ('W1', 'W2', 'W3'):\n",
    "        net_reg.params[key]-= eta*grds[key]\n",
    "    if i%1000==0:\n",
    "        print(\"%5d/%d completed, MSE: %7.2f\"%(i, iter_n, net_reg.loss(x_train, t_train)) )"
   ]
  },
  {
   "cell_type": "code",
   "execution_count": null,
   "metadata": {},
   "outputs": [],
   "source": [
    "scope = np.arange(-1, 3, 0.25)\n",
    "X, Y = np.meshgrid(scope, scope)\n",
    "grid = np.transpose(np.array([X.flatten(), Y.flatten()]))\n",
    "Z = net_reg.predict(grid)\n",
    "Z = Z.reshape((16,16))\n",
    "\n",
    "fig = plt.figure()\n",
    "ax = fig.add_subplot(projection='3d')             # 3d axes instance\n",
    "surf= ax.plot_surface(X, Y, Z,          # data values (2D Arryas)\n",
    "                       rstride=1,                   # row step size\n",
    "                       cstride=1,                  # column step size\n",
    "                       linewidth=1,               # wireframe line width\n",
    "                       antialiased=True)\n",
    "plt.show()"
   ]
  },
  {
   "cell_type": "code",
   "execution_count": null,
   "metadata": {},
   "outputs": [],
   "source": [
    "net_reg = Net_Reg(2, 10, 10, 1)\n",
    "x_train = np.transpose(x_train)"
   ]
  },
  {
   "cell_type": "code",
   "execution_count": null,
   "metadata": {},
   "outputs": [],
   "source": [
    "eta = 0.001\n",
    "epoch = 500\n",
    "bch_size = 10\n",
    "iter_per_epoch = int(num_samples/bch_size)\n",
    "\n",
    "for j in range(epoch):\n",
    "    bch_idx = np.random.permutation(num_samples).reshape(iter_per_epoch, bch_size)\n",
    "    for idx in bch_idx:\n",
    "        grds = net_reg.numerical_gradient(x_train[idx], t_train[idx])\n",
    "        for key in ('W1', 'W2', 'W3'):\n",
    "            net_reg.params[key] -= eta*grds[key]\n",
    "\n",
    "    if j%20==0:\n",
    "        print(\"[epoch %3d/%d],  MSE: %7.2f\"%(j, epoch, net_reg.loss(x_train, t_train)))"
   ]
  },
  {
   "cell_type": "code",
   "execution_count": null,
   "metadata": {},
   "outputs": [],
   "source": [
    "scope = np.arange(-1, 3, 0.25)\n",
    "X, Y = np.meshgrid(scope, scope)\n",
    "grid = np.transpose(np.array([X.flatten(), Y.flatten()]))\n",
    "Z = net_reg.predict(grid)\n",
    "Z = Z.reshape((16,16))\n",
    "\n",
    "fig = plt.figure()\n",
    "ax = fig.add_subplot(projection='3d')             # 3d axes instance\n",
    "surf= ax.plot_surface(X, Y, Z,          # data values (2D Arryas)\n",
    "                       rstride=1,                   # row step size\n",
    "                       cstride=1,                  # column step size\n",
    "                       linewidth=1,               # wireframe line width\n",
    "                       antialiased=True)\n",
    "plt.show()"
   ]
  },
  {
   "cell_type": "code",
   "execution_count": null,
   "metadata": {},
   "outputs": [],
   "source": [
    "np.random.permutation(10)"
   ]
  },
  {
   "cell_type": "code",
   "execution_count": null,
   "metadata": {},
   "outputs": [],
   "source": []
  },
  {
   "cell_type": "code",
   "execution_count": null,
   "metadata": {},
   "outputs": [],
   "source": []
  }
 ],
 "metadata": {
  "kernelspec": {
   "display_name": "Python 3 (ipykernel)",
   "language": "python",
   "name": "python3"
  },
  "language_info": {
   "codemirror_mode": {
    "name": "ipython",
    "version": 3
   },
   "file_extension": ".py",
   "mimetype": "text/x-python",
   "name": "python",
   "nbconvert_exporter": "python",
   "pygments_lexer": "ipython3",
   "version": "3.12.3"
  }
 },
 "nbformat": 4,
 "nbformat_minor": 4
}
