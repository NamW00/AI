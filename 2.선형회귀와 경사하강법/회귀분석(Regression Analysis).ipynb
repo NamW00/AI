{
 "cells": [
  {
   "cell_type": "code",
   "execution_count": 29,
   "id": "1afc4512-3497-4bf0-884a-3a1335a64193",
   "metadata": {},
   "outputs": [],
   "source": [
    "import numpy as np"
   ]
  },
  {
   "cell_type": "code",
   "execution_count": 31,
   "id": "42c4676c-cb53-4d72-a4b4-e790639e4c27",
   "metadata": {},
   "outputs": [
    {
     "name": "stdout",
     "output_type": "stream",
     "text": [
      "[-0.2 -0.4  0.5 -0.6 -0.4]\n",
      "[0.04 0.16 0.25 0.36 0.16]\n",
      "평균 제곱오차 = 0.19399999999999995\n"
     ]
    }
   ],
   "source": [
    "#넘파이를 이용하여 구현한 평균 제곱오차\n",
    "y = np.array([1, 2, 3, 4, 5])   # 실제 데터터\n",
    "y_hat = np.array([1.2, 2.4, 2.5, 4.6, 5.4]) # 추정치\n",
    "# 에러제곱의 평균\n",
    "diff = (y - y_hat) ** 2 \n",
    "print(y - y_hat) # 오차\n",
    "print(diff) # 오차들의 제곱\n",
    "e_mse = np.average(diff) #평균 제곱 오차(MSE)\n",
    "print('평균 제곱오차 =', e_mse)"
   ]
  }
 ],
 "metadata": {
  "kernelspec": {
   "display_name": "Python [conda env:base] *",
   "language": "python",
   "name": "conda-base-py"
  },
  "language_info": {
   "codemirror_mode": {
    "name": "ipython",
    "version": 3
   },
   "file_extension": ".py",
   "mimetype": "text/x-python",
   "name": "python",
   "nbconvert_exporter": "python",
   "pygments_lexer": "ipython3",
   "version": "3.12.7"
  }
 },
 "nbformat": 4,
 "nbformat_minor": 5
}
